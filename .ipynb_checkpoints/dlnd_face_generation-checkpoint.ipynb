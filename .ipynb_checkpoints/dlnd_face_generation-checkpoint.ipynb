{
 "cells": [
  {
   "cell_type": "code",
   "execution_count": 1,
   "metadata": {
    "colab": {
     "base_uri": "https://localhost:8080/",
     "height": 34
    },
    "colab_type": "code",
    "id": "DL7DklcAXrfl",
    "outputId": "454539e2-e3d7-4004-fbc1-1195b90cb865"
   },
   "outputs": [
    {
     "name": "stdout",
     "output_type": "stream",
     "text": [
      "fatal: destination path 'udacity-dlnd-generateFaces-GAN' already exists and is not an empty directory.\n"
     ]
    }
   ],
   "source": [
    "!git clone https://github.com/THIYAGU22/udacity-dlnd-generateFaces-GAN.git"
   ]
  },
  {
   "cell_type": "code",
   "execution_count": 0,
   "metadata": {
    "colab": {},
    "colab_type": "code",
    "id": "qihrLUbcX38o"
   },
   "outputs": [],
   "source": [
    "import os\n",
    "os.chdir('udacity-dlnd-generateFaces-GAN')"
   ]
  },
  {
   "cell_type": "markdown",
   "metadata": {
    "colab_type": "text",
    "id": "mSTCbbSQW8hN"
   },
   "source": [
    "# Face Generation\n",
    "\n",
    "In this project, you'll define and train a DCGAN on a dataset of faces. Your goal is to get a generator network to generate *new* images of faces that look as realistic as possible!\n",
    "\n",
    "The project will be broken down into a series of tasks from **loading in data to defining and training adversarial networks**. At the end of the notebook, you'll be able to visualize the results of your trained Generator to see how it performs; your generated samples should look like fairly realistic faces with small amounts of noise.\n",
    "\n",
    "### Get the Data\n",
    "\n",
    "You'll be using the [CelebFaces Attributes Dataset (CelebA)](http://mmlab.ie.cuhk.edu.hk/projects/CelebA.html) to train your adversarial networks.\n",
    "\n",
    "This dataset is more complex than the number datasets (like MNIST or SVHN) you've been working with, and so, you should prepare to define deeper networks and train them for a longer time to get good results. It is suggested that you utilize a GPU for training.\n",
    "\n",
    "### Pre-processed Data\n",
    "\n",
    "Since the project's main focus is on building the GANs, we've done *some* of the pre-processing for you. Each of the CelebA images has been cropped to remove parts of the image that don't include a face, then resized down to 64x64x3 NumPy images. Some sample data is show below.\n",
    "\n",
    "<img src='https://github.com/THIYAGU22/udacity-dlnd-generateFaces-GAN/blob/master/assets/processed_face_data.png?raw=1' width=60% />\n",
    "\n",
    "> If you are working locally, you can download this data [by clicking here](https://s3.amazonaws.com/video.udacity-data.com/topher/2018/November/5be7eb6f_processed-celeba-small/processed-celeba-small.zip)\n",
    "\n",
    "This is a zip file that you'll need to extract in the home directory of this notebook for further loading and processing. After extracting the data, you should be left with a directory of data `processed_celeba_small/`"
   ]
  },
  {
   "cell_type": "code",
   "execution_count": 3,
   "metadata": {
    "colab": {
     "base_uri": "https://localhost:8080/",
     "height": 204
    },
    "colab_type": "code",
    "id": "VIYI6FsbYbK2",
    "outputId": "76f13fa0-1c8e-422a-c5a9-8587b757d654"
   },
   "outputs": [
    {
     "name": "stdout",
     "output_type": "stream",
     "text": [
      "--2019-04-18 14:57:06--  https://s3.amazonaws.com/video.udacity-data.com/topher/2018/November/5be7eb6f_processed-celeba-small/processed-celeba-small.zip\n",
      "Resolving s3.amazonaws.com (s3.amazonaws.com)... 52.216.177.197\n",
      "Connecting to s3.amazonaws.com (s3.amazonaws.com)|52.216.177.197|:443... connected.\n",
      "HTTP request sent, awaiting response... 200 OK\n",
      "Length: 247694507 (236M) [application/zip]\n",
      "Saving to: ‘processed_celeba_small.zip’\n",
      "\n",
      "processed_celeba_sm 100%[===================>] 236.22M  62.7MB/s    in 3.8s    \n",
      "\n",
      "2019-04-18 14:57:10 (61.4 MB/s) - ‘processed_celeba_small.zip’ saved [247694507/247694507]\n",
      "\n"
     ]
    }
   ],
   "source": [
    "!wget https://s3.amazonaws.com/video.udacity-data.com/topher/2018/November/5be7eb6f_processed-celeba-small/processed-celeba-small.zip -O processed_celeba_small.zip"
   ]
  },
  {
   "cell_type": "code",
   "execution_count": 4,
   "metadata": {
    "colab": {
     "base_uri": "https://localhost:8080/",
     "height": 136
    },
    "colab_type": "code",
    "id": "77x8fdGwW8hT",
    "outputId": "be1fb98a-6e18-4466-c22f-b607fcdbddd4"
   },
   "outputs": [
    {
     "name": "stdout",
     "output_type": "stream",
     "text": [
      "Archive:  processed_celeba_small.zip\n",
      "replace processed_celeba_small/.DS_Store? [y]es, [n]o, [A]ll, [N]one, [r]ename: n\n",
      "replace __MACOSX/processed_celeba_small/._.DS_Store? [y]es, [n]o, [A]ll, [N]one, [r]ename: a\n",
      "error:  invalid response [a]\n",
      "replace __MACOSX/processed_celeba_small/._.DS_Store? [y]es, [n]o, [A]ll, [N]one, [r]ename: y\n",
      "  inflating: __MACOSX/processed_celeba_small/._.DS_Store  \n",
      "replace processed_celeba_small/celeba/.DS_Store? [y]es, [n]o, [A]ll, [N]one, [r]ename: "
     ]
    }
   ],
   "source": [
    "# can comment out after executing\n",
    "!unzip processed_celeba_small.zip"
   ]
  },
  {
   "cell_type": "code",
   "execution_count": 0,
   "metadata": {
    "colab": {},
    "colab_type": "code",
    "id": "77uk6wm8W8hk"
   },
   "outputs": [],
   "source": [
    "data_dir = 'processed_celeba_small/'\n",
    "\n",
    "\"\"\"\n",
    "DON'T MODIFY ANYTHING IN THIS CELL\n",
    "\"\"\"\n",
    "import pickle as pkl\n",
    "import matplotlib.pyplot as plt\n",
    "import numpy as np\n",
    "import problem_unittests as tests\n",
    "#import helper\n",
    "\n",
    "%matplotlib inline"
   ]
  },
  {
   "cell_type": "markdown",
   "metadata": {
    "colab_type": "text",
    "id": "8Ti9HjTUW8hu"
   },
   "source": [
    "## Visualize the CelebA Data\n",
    "\n",
    "The [CelebA](http://mmlab.ie.cuhk.edu.hk/projects/CelebA.html) dataset contains over 200,000 celebrity images with annotations. Since you're going to be generating faces, you won't need the annotations, you'll only need the images. Note that these are color images with [3 color channels (RGB)](https://en.wikipedia.org/wiki/Channel_(digital_image)#RGB_Images) each.\n",
    "\n",
    "### Pre-process and Load the Data\n",
    "\n",
    "Since the project's main focus is on building the GANs, we've done *some* of the pre-processing for you. Each of the CelebA images has been cropped to remove parts of the image that don't include a face, then resized down to 64x64x3 NumPy images. This *pre-processed* dataset is a smaller subset of the very large CelebA data.\n",
    "\n",
    "> There are a few other steps that you'll need to **transform** this data and create a **DataLoader**.\n",
    "\n",
    "#### Exercise: Complete the following `get_dataloader` function, such that it satisfies these requirements:\n",
    "\n",
    "* Your images should be square, Tensor images of size `image_size x image_size` in the x and y dimension.\n",
    "* Your function should return a DataLoader that shuffles and batches these Tensor images.\n",
    "\n",
    "#### ImageFolder\n",
    "\n",
    "To create a dataset given a directory of images, it's recommended that you use PyTorch's [ImageFolder](https://pytorch.org/docs/stable/torchvision/datasets.html#imagefolder) wrapper, with a root directory `processed_celeba_small/` and data transformation passed in."
   ]
  },
  {
   "cell_type": "code",
   "execution_count": 0,
   "metadata": {
    "colab": {},
    "colab_type": "code",
    "id": "-_S5e4B7W8hx"
   },
   "outputs": [],
   "source": [
    "# necessary imports\n",
    "import torch\n",
    "from torchvision import datasets\n",
    "from torchvision import transforms"
   ]
  },
  {
   "cell_type": "code",
   "execution_count": 0,
   "metadata": {
    "colab": {},
    "colab_type": "code",
    "id": "6O-KJUpPW8h5"
   },
   "outputs": [],
   "source": [
    "def get_dataloader(batch_size, image_size, data_dir='processed_celeba_small/'):\n",
    "    \"\"\"\n",
    "    Batch the neural network data using DataLoader\n",
    "    :param batch_size: The size of each batch; the number of images in a batch\n",
    "    :param img_size: The square size of the image data (x, y)\n",
    "    :param data_dir: Directory where image data is located\n",
    "    :return: DataLoader with batched data\n",
    "    \"\"\"\n",
    "    transform = transforms.Compose([transforms.Resize(image_size),\n",
    "                                    transforms.CenterCrop(image_size),\n",
    "                                   transforms.ToTensor()])\n",
    "    dataset = datasets.ImageFolder('./'+data_dir,transform)\n",
    "    # TODO: Implement function and return a dataloader\n",
    "    dataLoader = torch.utils.data.DataLoader(dataset=dataset,\n",
    "                                        batch_size = batch_size,\n",
    "                                        shuffle = True,\n",
    "                                       num_workers = 0 )\n",
    "    \n",
    "    return dataLoader\n",
    "\n"
   ]
  },
  {
   "cell_type": "markdown",
   "metadata": {
    "colab_type": "text",
    "id": "9lKuRBZoW8iA"
   },
   "source": [
    "## Create a DataLoader\n",
    "\n",
    "#### Exercise: Create a DataLoader `celeba_train_loader` with appropriate hyperparameters.\n",
    "\n",
    "Call the above function and create a dataloader to view images. \n",
    "* You can decide on any reasonable `batch_size` parameter\n",
    "* Your `image_size` **must be** `32`. Resizing the data to a smaller size will make for faster training, while still creating convincing images of faces!"
   ]
  },
  {
   "cell_type": "code",
   "execution_count": 0,
   "metadata": {
    "colab": {},
    "colab_type": "code",
    "id": "j88Hbgq6W8iB"
   },
   "outputs": [],
   "source": [
    "# Define function hyperparameters\n",
    "batch_size = 128\n",
    "img_size = 32\n",
    "\n",
    "\"\"\"\n",
    "DON'T MODIFY ANYTHING IN THIS CELL THAT IS BELOW THIS LINE\n",
    "\"\"\"\n",
    "# Call your function and get a dataloader\n",
    "celeba_train_loader = get_dataloader(batch_size, img_size)\n"
   ]
  },
  {
   "cell_type": "markdown",
   "metadata": {
    "colab_type": "text",
    "id": "rNmbXkazW8iG"
   },
   "source": [
    "Next, you can view some images! You should seen square images of somewhat-centered faces.\n",
    "\n",
    "Note: You'll need to convert the Tensor images into a NumPy type and transpose the dimensions to correctly display an image, suggested `imshow` code is below, but it may not be perfect."
   ]
  },
  {
   "cell_type": "code",
   "execution_count": 9,
   "metadata": {
    "colab": {
     "base_uri": "https://localhost:8080/",
     "height": 251
    },
    "colab_type": "code",
    "id": "JbOloY-LW8iI",
    "outputId": "c081dff3-4cb4-4553-8133-ed0235587a2d"
   },
   "outputs": [
    {
     "data": {
      "image/png": "[encoded data removed]",
      "text/plain": [
       "<Figure size 1440x288 with 20 Axes>"
      ]
     },
     "metadata": {
      "tags": []
     },
     "output_type": "display_data"
    }
   ],
   "source": [
    "# helper display function\n",
    "def imshow(img):\n",
    "    npimg = img.numpy()\n",
    "    plt.imshow(np.transpose(npimg, (1, 2, 0)))\n",
    "\n",
    "\"\"\"\n",
    "DON'T MODIFY ANYTHING IN THIS CELL THAT IS BELOW THIS LINE\n",
    "\"\"\"\n",
    "# obtain one batch of training images\n",
    "dataiter = iter(celeba_train_loader)\n",
    "images, _ = dataiter.next() # _ for no labels\n",
    "\n",
    "# plot the images in the batch, along with the corresponding labels\n",
    "fig = plt.figure(figsize=(20, 4))\n",
    "plot_size=20\n",
    "for idx in np.arange(plot_size):\n",
    "    ax = fig.add_subplot(2, plot_size/2, idx+1, xticks=[], yticks=[])\n",
    "    imshow(images[idx])"
   ]
  },
  {
   "cell_type": "markdown",
   "metadata": {
    "colab_type": "text",
    "id": "dfAmLP_bW8iR"
   },
   "source": [
    "#### Exercise: Pre-process your image data and scale it to a pixel range of -1 to 1\n",
    "\n",
    "You need to do a bit of pre-processing; you know that the output of a `tanh` activated generator will contain pixel values in a range from -1 to 1, and so, we need to rescale our training images to a range of -1 to 1. (Right now, they are in a range from 0-1.)"
   ]
  },
  {
   "cell_type": "code",
   "execution_count": 0,
   "metadata": {
    "colab": {},
    "colab_type": "code",
    "id": "9r8Yr1vTW8iT"
   },
   "outputs": [],
   "source": [
    "# TODO: Complete the scale function\n",
    "def scale(x, feature_range=(-1, 1)):\n",
    "    ''' Scale takes in an image x and returns that image, scaled\n",
    "       with a feature_range of pixel values from -1 to 1. \n",
    "       This function assumes that the input x is already scaled from 0-1.'''\n",
    "    # assume x is scaled to (0, 1)\n",
    "    # scale to feature_range and return scaled x\n",
    "    min,max = feature_range\n",
    "    x = x * (max - min) + min\n",
    "    return x\n"
   ]
  },
  {
   "cell_type": "code",
   "execution_count": 11,
   "metadata": {
    "colab": {
     "base_uri": "https://localhost:8080/",
     "height": 51
    },
    "colab_type": "code",
    "id": "kz7pYx4aW8iY",
    "outputId": "cd630785-a2be-43c9-e300-5bc01623215d"
   },
   "outputs": [
    {
     "name": "stdout",
     "output_type": "stream",
     "text": [
      "Min:  tensor(-1.)\n",
      "Max:  tensor(0.7176)\n"
     ]
    }
   ],
   "source": [
    "\"\"\"\n",
    "DON'T MODIFY ANYTHING IN THIS CELL THAT IS BELOW THIS LINE\n",
    "\"\"\"\n",
    "# check scaled range\n",
    "# should be close to -1 to 1\n",
    "img = images[0]\n",
    "scaled_img = scale(img)\n",
    "\n",
    "print('Min: ', scaled_img.min())\n",
    "print('Max: ', scaled_img.max())\n"
   ]
  },
  {
   "cell_type": "code",
   "execution_count": 12,
   "metadata": {
    "colab": {
     "base_uri": "https://localhost:8080/",
     "height": 34
    },
    "colab_type": "code",
    "id": "UwFDzEuyW8ig",
    "outputId": "0ef37365-a810-44f0-c492-7a0d045dc63c"
   },
   "outputs": [
    {
     "name": "stdout",
     "output_type": "stream",
     "text": [
      "it is scaled as expected\n"
     ]
    }
   ],
   "source": [
    "scaled_img = scale(images[0])\n",
    "if int(scaled_img.min()) <= 0 and int(scaled_img.max()) >= 0:\n",
    "    print('it is scaled as expected')\n",
    "else :\n",
    "    print('no')"
   ]
  },
  {
   "cell_type": "markdown",
   "metadata": {
    "colab_type": "text",
    "id": "MjpvrFNVW8is"
   },
   "source": [
    "---\n",
    "# Define the Model\n",
    "\n",
    "A GAN is comprised of two adversarial networks, a discriminator and a generator.\n",
    "\n",
    "## Discriminator\n",
    "\n",
    "Your first task will be to define the discriminator. This is a convolutional classifier like you've built before, only without any maxpooling layers. To deal with this complex data, it's suggested you use a deep network with **normalization**. You are also allowed to create any helper functions that may be useful.\n",
    "\n",
    "#### Exercise: Complete the Discriminator class\n",
    "* The inputs to the discriminator are 32x32x3 tensor images\n",
    "* The output should be a single value that will indicate whether a given image is real or fake\n"
   ]
  },
  {
   "cell_type": "code",
   "execution_count": 0,
   "metadata": {
    "colab": {},
    "colab_type": "code",
    "id": "d4M7rJU1W8iu"
   },
   "outputs": [],
   "source": [
    "import torch.nn as nn\n",
    "import torch.nn.functional as F"
   ]
  },
  {
   "cell_type": "code",
   "execution_count": 0,
   "metadata": {
    "colab": {},
    "colab_type": "code",
    "id": "cSzQu7IYW8i6"
   },
   "outputs": [],
   "source": [
    "def conv(in_channels,out_channels,kernel_size,stride=2,padding=1,batch_norm=True):\n",
    "    layers = []\n",
    "    conv_layer = nn.Conv2d(in_channels,out_channels,kernel_size,stride,padding,bias=False)\n",
    "    layers.append(conv_layer)\n",
    "    \n",
    "    if batch_norm:\n",
    "        layers.append(nn.BatchNorm2d(out_channels))\n",
    "        \n",
    "    return nn.Sequential(*layers)\n"
   ]
  },
  {
   "cell_type": "code",
   "execution_count": 15,
   "metadata": {
    "colab": {
     "base_uri": "https://localhost:8080/",
     "height": 34
    },
    "colab_type": "code",
    "id": "HXZy1xIUW8jB",
    "outputId": "d218def1-8cf5-4252-e7c4-1d5b8f76395e"
   },
   "outputs": [
    {
     "name": "stdout",
     "output_type": "stream",
     "text": [
      "Tests Passed\n"
     ]
    }
   ],
   "source": [
    "class Discriminator(nn.Module):\n",
    "\n",
    "    def __init__(self, conv_dim):\n",
    "        \"\"\"\n",
    "        Initialize the Discriminator Module\n",
    "        :param conv_dim: The depth of the first convolutional layer\n",
    "        \"\"\"\n",
    "        super(Discriminator, self).__init__()\n",
    "\n",
    "        # complete init function\n",
    "        self.conv_dim = conv_dim\n",
    "        \n",
    "        self.conv1 = conv(3, conv_dim, 4,batch_norm = False)\n",
    "        self.conv2 = conv(conv_dim,conv_dim*2, kernel_size = 4)\n",
    "        self.conv3 = conv(conv_dim*2 , conv_dim*4 ,kernel_size = 4)\n",
    "        self.conv4 = conv(conv_dim*4,conv_dim*8,kernel_size=4)\n",
    "        \n",
    "        #fc layer\n",
    "        self.fc = nn.Linear(conv_dim*8*2*2, 1)\n",
    "        \n",
    "    def forward(self, x):\n",
    "        \"\"\"\n",
    "        Forward propagation of the neural network\n",
    "        :param x: The input to the neural network     \n",
    "        :return: Discriminator logits; the output of the neural network\n",
    "        \"\"\"\n",
    "        # define feedforward behavior\n",
    "        x = F.leaky_relu(self.conv1(x),0.2)\n",
    "        x = F.leaky_relu(self.conv2(x),0.2)\n",
    "        x = F.leaky_relu(self.conv3(x),0.2)\n",
    "        x = F.leaky_relu(self.conv4(x),0.2)\n",
    "        \n",
    "        x = x.view(-1,self.conv_dim*8*2*2)\n",
    "        x = self.fc(x)\n",
    "        return x\n",
    "\n",
    "\n",
    "\"\"\"\n",
    "DON'T MODIFY ANYTHING IN THIS CELL THAT IS BELOW THIS LINE\n",
    "\"\"\"\n",
    "tests.test_discriminator(Discriminator)"
   ]
  },
  {
   "cell_type": "markdown",
   "metadata": {
    "colab_type": "text",
    "id": "4Yg7ChYmW8jP"
   },
   "source": [
    "## Generator\n",
    "\n",
    "The generator should upsample an input and generate a *new* image of the same size as our training data `32x32x3`. This should be mostly transpose convolutional layers with normalization applied to the outputs.\n",
    "\n",
    "#### Exercise: Complete the Generator class\n",
    "* The inputs to the generator are vectors of some length `z_size`\n",
    "* The output should be a image of shape `32x32x3`"
   ]
  },
  {
   "cell_type": "code",
   "execution_count": 0,
   "metadata": {
    "colab": {},
    "colab_type": "code",
    "id": "hiJTU8HFW8jR"
   },
   "outputs": [],
   "source": [
    "def deconv(in_channels,out_channels,kernel_size,stride=2,padding=1,batch_norm=True):\n",
    "    layers = []\n",
    "    t_conv_layer = nn.ConvTranspose2d(in_channels,out_channels,kernel_size,stride,padding,bias=False)\n",
    "    layers.append(t_conv_layer)\n",
    "    \n",
    "    if batch_norm:\n",
    "        layers.append(nn.BatchNorm2d(out_channels))\n",
    "        \n",
    "    return nn.Sequential(*layers)"
   ]
  },
  {
   "cell_type": "code",
   "execution_count": 17,
   "metadata": {
    "colab": {
     "base_uri": "https://localhost:8080/",
     "height": 34
    },
    "colab_type": "code",
    "id": "_8Q7nlJzW8ja",
    "outputId": "e964c1ee-7058-4d61-945a-69526d368e85"
   },
   "outputs": [
    {
     "name": "stdout",
     "output_type": "stream",
     "text": [
      "Tests Passed\n"
     ]
    }
   ],
   "source": [
    "class Generator(nn.Module):\n",
    "    \n",
    "    def __init__(self, z_size, conv_dim):\n",
    "        \"\"\"\n",
    "        Initialize the Generator Module\n",
    "        :param z_size: The length of the input latent vector, z\n",
    "        :param conv_dim: The depth of the inputs to the *last* transpose convolutional layer\n",
    "        \"\"\"\n",
    "        super(Generator, self).__init__()\n",
    "\n",
    "        # complete init function\n",
    "        self.z_size = z_size\n",
    "        self.conv_dim = conv_dim\n",
    "        \n",
    "        #first step - fully conn layer\n",
    "        self.fc = nn.Linear(z_size,conv_dim*8*2*2)\n",
    "        \n",
    "        self.trans_conv1 = deconv(conv_dim*8,conv_dim*4,kernel_size = 4)\n",
    "        self.trans_conv2 = deconv(conv_dim*4 ,conv_dim*2,kernel_size=4)        \n",
    "        self.trans_conv3 = deconv(conv_dim*2,conv_dim,kernel_size=4)\n",
    "        self.trans_conv4 = deconv(conv_dim,3,kernel_size=4,batch_norm=False)\n",
    "\n",
    "    def forward(self, x):\n",
    "        \"\"\"\n",
    "        Forward propagation of the neural network\n",
    "        :param x: The input to the neural network     \n",
    "        :return: A 32x32x3 Tensor image as output\n",
    "        \"\"\"\n",
    "        # define feedforward behavior\n",
    "        x = self.fc(x)\n",
    "        \n",
    "        x = x.view(-1,self.conv_dim*8,2,2)\n",
    "        x= F.relu(self.trans_conv1(x))\n",
    "        x= F.relu(self.trans_conv2(x))\n",
    "        x = F.relu(self.trans_conv3(x))\n",
    "        \n",
    "        x = torch.tanh(self.trans_conv4(x))\n",
    "        return x\n",
    "\n",
    "\"\"\"\n",
    "DON'T MODIFY ANYTHING IN THIS CELL THAT IS BELOW THIS LINE\n",
    "\"\"\"\n",
    "tests.test_generator(Generator)"
   ]
  },
  {
   "cell_type": "markdown",
   "metadata": {
    "colab_type": "text",
    "id": "mofHK-3sW8jt"
   },
   "source": [
    "## Initialize the weights of your networks\n",
    "\n",
    "To help your models converge, you should initialize the weights of the convolutional and linear layers in your model. From reading the [original DCGAN paper](https://arxiv.org/pdf/1511.06434.pdf), they say:\n",
    "> All weights were initialized from a zero-centered Normal distribution with standard deviation 0.02.\n",
    "\n",
    "So, your next task will be to define a weight initialization function that does just this!\n",
    "\n",
    "You can refer back to the lesson on weight initialization or even consult existing model code, such as that from [the `networks.py` file in CycleGAN Github repository](https://github.com/junyanz/pytorch-CycleGAN-and-pix2pix/blob/master/models/networks.py) to help you complete this function.\n",
    "\n",
    "#### Exercise: Complete the weight initialization function\n",
    "\n",
    "* This should initialize only **convolutional** and **linear** layers\n",
    "* Initialize the weights to a normal distribution, centered around 0, with a standard deviation of 0.02.\n",
    "* The bias terms, if they exist, may be left alone or set to 0."
   ]
  },
  {
   "cell_type": "code",
   "execution_count": 0,
   "metadata": {
    "colab": {},
    "colab_type": "code",
    "id": "xsAJXvbwW8jv"
   },
   "outputs": [],
   "source": [
    "def weights_init_normal(m):\n",
    "    \"\"\"\n",
    "    Applies initial weights to certain layers in a model .\n",
    "    The weights are taken from a normal distribution \n",
    "    with mean = 0, std dev = 0.02.\n",
    "    :param m: A module or layer in a network    \n",
    "    \"\"\"\n",
    "    # classname will be something like:\n",
    "    # `Conv`, `BatchNorm2d`, `Linear`, etc.\n",
    "    classname = m.__class__.__name__\n",
    "    \n",
    "    # TODO: Apply initial weights to convolutional and linear layers\n",
    "    if hasattr(m, 'weight') and (classname.find('Conv') != -1 or classname.find('Linear') != -1):\n",
    "        m.weight.data.normal_(0.0, 0.02)\n",
    "   \n",
    "    \n",
    "    "
   ]
  },
  {
   "cell_type": "markdown",
   "metadata": {
    "colab_type": "text",
    "collapsed": true,
    "id": "FvQca6azW8j2"
   },
   "source": [
    "## Build complete network\n",
    "\n",
    "Define your models' hyperparameters and instantiate the discriminator and generator from the classes defined above. Make sure you've passed in the correct input arguments."
   ]
  },
  {
   "cell_type": "code",
   "execution_count": 0,
   "metadata": {
    "colab": {},
    "colab_type": "code",
    "id": "6CVwWgE1W8j4"
   },
   "outputs": [],
   "source": [
    "\"\"\"\n",
    "DON'T MODIFY ANYTHING IN THIS CELL THAT IS BELOW THIS LINE\n",
    "\"\"\"\n",
    "def build_network(d_conv_dim, g_conv_dim, z_size):\n",
    "    # define discriminator and generator\n",
    "    D = Discriminator(d_conv_dim)\n",
    "    G = Generator(z_size=z_size, conv_dim=g_conv_dim)\n",
    "\n",
    "    # initialize model weights\n",
    "    D.apply(weights_init_normal)\n",
    "    G.apply(weights_init_normal)\n",
    "\n",
    "    print(D)\n",
    "    print()\n",
    "    print(G)\n",
    "    \n",
    "    return D, G\n"
   ]
  },
  {
   "cell_type": "markdown",
   "metadata": {
    "colab_type": "text",
    "id": "1HKGqBorW8kF"
   },
   "source": [
    "#### Exercise: Define model hyperparameters"
   ]
  },
  {
   "cell_type": "code",
   "execution_count": 20,
   "metadata": {
    "colab": {
     "base_uri": "https://localhost:8080/",
     "height": 646
    },
    "colab_type": "code",
    "id": "_MBRqIwYW8kH",
    "outputId": "8250ff0c-b168-4498-cc2e-1a0eada8c93e"
   },
   "outputs": [
    {
     "name": "stdout",
     "output_type": "stream",
     "text": [
      "Discriminator(\n",
      "  (conv1): Sequential(\n",
      "    (0): Conv2d(3, 64, kernel_size=(4, 4), stride=(2, 2), padding=(1, 1), bias=False)\n",
      "  )\n",
      "  (conv2): Sequential(\n",
      "    (0): Conv2d(64, 128, kernel_size=(4, 4), stride=(2, 2), padding=(1, 1), bias=False)\n",
      "    (1): BatchNorm2d(128, eps=1e-05, momentum=0.1, affine=True, track_running_stats=True)\n",
      "  )\n",
      "  (conv3): Sequential(\n",
      "    (0): Conv2d(128, 256, kernel_size=(4, 4), stride=(2, 2), padding=(1, 1), bias=False)\n",
      "    (1): BatchNorm2d(256, eps=1e-05, momentum=0.1, affine=True, track_running_stats=True)\n",
      "  )\n",
      "  (conv4): Sequential(\n",
      "    (0): Conv2d(256, 512, kernel_size=(4, 4), stride=(2, 2), padding=(1, 1), bias=False)\n",
      "    (1): BatchNorm2d(512, eps=1e-05, momentum=0.1, affine=True, track_running_stats=True)\n",
      "  )\n",
      "  (fc): Linear(in_features=2048, out_features=1, bias=True)\n",
      ")\n",
      "\n",
      "Generator(\n",
      "  (fc): Linear(in_features=100, out_features=2048, bias=True)\n",
      "  (trans_conv1): Sequential(\n",
      "    (0): ConvTranspose2d(512, 256, kernel_size=(4, 4), stride=(2, 2), padding=(1, 1), bias=False)\n",
      "    (1): BatchNorm2d(256, eps=1e-05, momentum=0.1, affine=True, track_running_stats=True)\n",
      "  )\n",
      "  (trans_conv2): Sequential(\n",
      "    (0): ConvTranspose2d(256, 128, kernel_size=(4, 4), stride=(2, 2), padding=(1, 1), bias=False)\n",
      "    (1): BatchNorm2d(128, eps=1e-05, momentum=0.1, affine=True, track_running_stats=True)\n",
      "  )\n",
      "  (trans_conv3): Sequential(\n",
      "    (0): ConvTranspose2d(128, 64, kernel_size=(4, 4), stride=(2, 2), padding=(1, 1), bias=False)\n",
      "    (1): BatchNorm2d(64, eps=1e-05, momentum=0.1, affine=True, track_running_stats=True)\n",
      "  )\n",
      "  (trans_conv4): Sequential(\n",
      "    (0): ConvTranspose2d(64, 3, kernel_size=(4, 4), stride=(2, 2), padding=(1, 1), bias=False)\n",
      "  )\n",
      ")\n"
     ]
    }
   ],
   "source": [
    "# Define model hyperparams\n",
    "d_conv_dim = 64\n",
    "g_conv_dim = 64\n",
    "z_size = 100\n",
    "\n",
    "\"\"\"\n",
    "DON'T MODIFY ANYTHING IN THIS CELL THAT IS BELOW THIS LINE\n",
    "\"\"\"\n",
    "D, G = build_network(d_conv_dim, g_conv_dim, z_size)"
   ]
  },
  {
   "cell_type": "markdown",
   "metadata": {
    "colab_type": "text",
    "id": "m-VeMMQtW8kQ"
   },
   "source": [
    "### Training on GPU\n",
    "\n",
    "Check if you can train on GPU. Here, we'll set this as a boolean variable `train_on_gpu`. Later, you'll be responsible for making sure that \n",
    ">* Models,\n",
    "* Model inputs, and\n",
    "* Loss function arguments\n",
    "\n",
    "Are moved to GPU, where appropriate."
   ]
  },
  {
   "cell_type": "code",
   "execution_count": 21,
   "metadata": {
    "colab": {
     "base_uri": "https://localhost:8080/",
     "height": 34
    },
    "colab_type": "code",
    "id": "EkOYHeM8W8kS",
    "outputId": "dc296cd2-b6aa-4ace-c24f-633e69cb3174"
   },
   "outputs": [
    {
     "name": "stdout",
     "output_type": "stream",
     "text": [
      "Training on GPU!\n"
     ]
    }
   ],
   "source": [
    "\"\"\"\n",
    "DON'T MODIFY ANYTHING IN THIS CELL\n",
    "\"\"\"\n",
    "import torch\n",
    "\n",
    "# Check for a GPU\n",
    "train_on_gpu = torch.cuda.is_available()\n",
    "if not train_on_gpu:\n",
    "    print('No GPU found. Please use a GPU to train your neural network.')\n",
    "else:\n",
    "    print('Training on GPU!')"
   ]
  },
  {
   "cell_type": "markdown",
   "metadata": {
    "colab_type": "text",
    "id": "1XE9G-vzW8kc"
   },
   "source": [
    "---\n",
    "## Discriminator and Generator Losses\n",
    "\n",
    "Now we need to calculate the losses for both types of adversarial networks.\n",
    "\n",
    "### Discriminator Losses\n",
    "\n",
    "> * For the discriminator, the total loss is the sum of the losses for real and fake images, `d_loss = d_real_loss + d_fake_loss`. \n",
    "* Remember that we want the discriminator to output 1 for real images and 0 for fake images, so we need to set up the losses to reflect that.\n",
    "\n",
    "\n",
    "### Generator Loss\n",
    "\n",
    "The generator loss will look similar only with flipped labels. The generator's goal is to get the discriminator to *think* its generated images are *real*.\n",
    "\n",
    "#### Exercise: Complete real and fake loss functions\n",
    "\n",
    "**You may choose to use either cross entropy or a least squares error loss to complete the following `real_loss` and `fake_loss` functions.**"
   ]
  },
  {
   "cell_type": "code",
   "execution_count": 0,
   "metadata": {
    "colab": {},
    "colab_type": "code",
    "id": "mSe_QT_OW8ke"
   },
   "outputs": [],
   "source": [
    "def real_loss(D_out):\n",
    "    '''Calculates how close discriminator outputs are to being real.\n",
    "       param, D_out: discriminator logits\n",
    "       return: real loss'''\n",
    "    batch_size = D_out.size(0)\n",
    "    \n",
    "    labels = torch.ones(batch_size)*0.9  \n",
    "        \n",
    "    if train_on_gpu:\n",
    "        labels = labels.cuda()\n",
    "    criterion = nn.BCEWithLogitsLoss() #cross entropy + logits loss\n",
    "    loss = criterion(D_out.squeeze(),labels)\n",
    "    return loss\n",
    "\n",
    "def fake_loss(D_out):\n",
    "    '''Calculates how close discriminator outputs are to being fake.\n",
    "       param, D_out: discriminator logits\n",
    "       return: fake loss'''\n",
    "    batch_size = D_out.size(0)\n",
    "    \n",
    "    labels = torch.zeros(batch_size) # fake labels = 0 dummies :)\n",
    "        \n",
    "    if train_on_gpu:\n",
    "        labels = labels.cuda()\n",
    "    criterion = nn.BCEWithLogitsLoss() #cross entropy + logits loss\n",
    "    loss = criterion(D_out.squeeze(),labels)\n",
    "    return loss"
   ]
  },
  {
   "cell_type": "markdown",
   "metadata": {
    "colab_type": "text",
    "id": "bPtP4HqzW8kz"
   },
   "source": [
    "## Optimizers\n",
    "\n",
    "#### Exercise: Define optimizers for your Discriminator (D) and Generator (G)\n",
    "\n",
    "Define optimizers for your models with appropriate hyperparameters."
   ]
  },
  {
   "cell_type": "code",
   "execution_count": 0,
   "metadata": {
    "colab": {},
    "colab_type": "code",
    "id": "FtFfVA6_W8k0"
   },
   "outputs": [],
   "source": [
    "lr= 0.0002\n",
    "beta1 = 0.3\n",
    "beta2 = 0.999"
   ]
  },
  {
   "cell_type": "code",
   "execution_count": 0,
   "metadata": {
    "colab": {},
    "colab_type": "code",
    "id": "mMkX3ToDW8k6"
   },
   "outputs": [],
   "source": [
    "import torch.optim as optim\n",
    "\n",
    "# Create optimizers for the discriminator D and generator G\n",
    "d_optimizer = optim.Adam(D.parameters(),lr,[beta1,beta2])\n",
    "g_optimizer = optim.Adam(G.parameters(),lr,[beta1,beta2])"
   ]
  },
  {
   "cell_type": "markdown",
   "metadata": {
    "colab_type": "text",
    "id": "sIMdor3tW8k-"
   },
   "source": [
    "---\n",
    "## Training\n",
    "\n",
    "Training will involve alternating between training the discriminator and the generator. You'll use your functions `real_loss` and `fake_loss` to help you calculate the discriminator losses.\n",
    "\n",
    "* You should train the discriminator by alternating on real and fake images\n",
    "* Then the generator, which tries to trick the discriminator and should have an opposing loss function\n",
    "\n",
    "\n",
    "#### Saving Samples\n",
    "\n",
    "You've been given some code to print out some loss statistics and save some generated \"fake\" samples."
   ]
  },
  {
   "cell_type": "markdown",
   "metadata": {
    "colab_type": "text",
    "id": "k28a7jyBW8k_"
   },
   "source": [
    "#### Exercise: Complete the training function\n",
    "\n",
    "Keep in mind that, if you've moved your models to GPU, you'll also have to move any model inputs to GPU."
   ]
  },
  {
   "cell_type": "code",
   "execution_count": 0,
   "metadata": {
    "colab": {},
    "colab_type": "code",
    "id": "sPYNBR-eW8lB"
   },
   "outputs": [],
   "source": [
    "from tqdm import tqdm\n",
    "\n",
    "from workspace_utils import active_session\n"
   ]
  },
  {
   "cell_type": "code",
   "execution_count": 0,
   "metadata": {
    "colab": {},
    "colab_type": "code",
    "id": "ZniHcoUzW8lG"
   },
   "outputs": [],
   "source": [
    "def train(D, G, n_epochs, print_every=50):\n",
    "        '''Trains adversarial networks for some number of epochs\n",
    "           param, D: the discriminator network\n",
    "           param, G: the generator network\n",
    "           param, n_epochs: number of epochs to train for\n",
    "           param, print_every: when to print and record the models' losses\n",
    "           return: D and G losses'''\n",
    "\n",
    "        # move models to GPU\n",
    "        if train_on_gpu:\n",
    "            D.cuda()\n",
    "            G.cuda()\n",
    "\n",
    "        # keep track of loss and generated, \"fake\" samples\n",
    "        samples = []\n",
    "        losses = []\n",
    "\n",
    "        # Get some fixed data for sampling. These are images that are held\n",
    "        # constant throughout training, and allow us to inspect the model's performance\n",
    "        sample_size=16\n",
    "        fixed_z = np.random.uniform(-1, 1, size=(sample_size, z_size))\n",
    "        fixed_z = torch.from_numpy(fixed_z).float()\n",
    "        # move z to GPU if available\n",
    "        if train_on_gpu:\n",
    "            fixed_z = fixed_z.cuda()\n",
    "\n",
    "        # epoch training loop\n",
    "        for epoch in tqdm(range(n_epochs)):\n",
    "\n",
    "            # batch training loop\n",
    "            for batch_i, (real_images, _) in enumerate(celeba_train_loader):\n",
    "\n",
    "                batch_size = real_images.size(0)\n",
    "                real_images = scale(real_images)\n",
    "\n",
    "                # ===============================================\n",
    "                #         YOUR CODE HERE: TRAIN THE NETWORKS\n",
    "                # ===============================================\n",
    "                d_optimizer.zero_grad()\n",
    "\n",
    "                if train_on_gpu:\n",
    "                    real_images = real_images.cuda()\n",
    "\n",
    "                D_real = D(real_images)\n",
    "                d_real_loss = real_loss(D_real) #if smoothing adjust labels or else 1\n",
    "\n",
    "                z = np.random.uniform(-1, 1, size=(batch_size, z_size))\n",
    "                z = torch.from_numpy(z).float()\n",
    "\n",
    "                if train_on_gpu:\n",
    "                    z = z.cuda()\n",
    "\n",
    "                fake_images = G(z) # on the generator to generalize the fake img and to calculate fake loss from discriminator\n",
    "\n",
    "                D_fake = D(fake_images)\n",
    "                d_fake_loss = fake_loss(D_fake)\n",
    "\n",
    "\n",
    "\n",
    "                # 1. Train the discriminator on real and fake images\n",
    "                d_loss = d_real_loss + d_fake_loss\n",
    "                d_loss.backward()\n",
    "                d_optimizer.step()\n",
    "\n",
    "                #----------------------TRAIN GENERATOR-------------------------\n",
    "\n",
    "                g_optimizer.zero_grad()\n",
    "\n",
    "                z = np.random.uniform(-1, 1, size=(batch_size, z_size))\n",
    "                z = torch.from_numpy(z).float()\n",
    "\n",
    "                if train_on_gpu:\n",
    "                    z = z.cuda()\n",
    "\n",
    "                fake_images = G(z) \n",
    "\n",
    "                D_fake = D(fake_images)\n",
    "\n",
    "                # 2. Train the generator with an adversarial loss\n",
    "                g_loss =  real_loss(D_fake)\n",
    "\n",
    "                #backpropagate the mistake and update the best possibilities\n",
    "                g_loss.backward()\n",
    "                g_optimizer.step()\n",
    "\n",
    "\n",
    "\n",
    "\n",
    "                # ===============================================\n",
    "                #              END OF YOUR CODE\n",
    "                # ===============================================\n",
    "\n",
    "                # Print some loss stats\n",
    "                if batch_i % print_every == 0:\n",
    "                    # append discriminator loss and generator loss\n",
    "                    losses.append((d_loss.item(), g_loss.item()))\n",
    "                    # print discriminator and generator loss\n",
    "                    print('Epoch [{:5d}/{:5d}] | d_loss: {:6.4f} | g_loss: {:6.4f}'.format(\n",
    "                            epoch+1, n_epochs, d_loss.item(), g_loss.item()))\n",
    "\n",
    "\n",
    "            ## AFTER EACH EPOCH##    \n",
    "            # this code assumes your generator is named G, feel free to change the name\n",
    "            # generate and save sample, fake images\n",
    "            G.eval() # for generating samples\n",
    "            samples_z = G(fixed_z)\n",
    "            samples.append(samples_z)\n",
    "            G.train() # back to training mode\n",
    "\n",
    "        # Save training generator samples\n",
    "        with open('train_samples.pkl', 'wb') as f:\n",
    "            pkl.dump(samples, f)\n",
    "\n",
    "        # finally return losses\n",
    "        return losses"
   ]
  },
  {
   "cell_type": "markdown",
   "metadata": {
    "colab_type": "text",
    "id": "N8hXUVkAW8lO"
   },
   "source": [
    "Set your number of training epochs and train your GAN!"
   ]
  },
  {
   "cell_type": "code",
   "execution_count": 28,
   "metadata": {
    "colab": {
     "base_uri": "https://localhost:8080/",
     "height": 13651
    },
    "colab_type": "code",
    "id": "uEJCQzjHW8lQ",
    "outputId": "b7419b30-de24-42b4-c499-ac07689fd678"
   },
   "outputs": [
    {
     "name": "stderr",
     "output_type": "stream",
     "text": [
      "\n",
      "  0%|          | 0/50 [00:00<?, ?it/s]\u001b[A"
     ]
    },
    {
     "name": "stdout",
     "output_type": "stream",
     "text": [
      "Epoch [    1/   50] | d_loss: 0.8337 | g_loss: 2.1869\n",
      "Epoch [    1/   50] | d_loss: 0.9226 | g_loss: 1.5720\n",
      "Epoch [    1/   50] | d_loss: 0.9035 | g_loss: 2.0857\n",
      "Epoch [    1/   50] | d_loss: 1.0979 | g_loss: 3.1729\n",
      "Epoch [    1/   50] | d_loss: 0.9663 | g_loss: 2.2689\n",
      "Epoch [    1/   50] | d_loss: 1.3428 | g_loss: 3.5007\n",
      "Epoch [    1/   50] | d_loss: 1.2088 | g_loss: 3.7161\n",
      "Epoch [    1/   50] | d_loss: 0.9914 | g_loss: 1.5404\n",
      "Epoch [    1/   50] | d_loss: 0.9015 | g_loss: 1.9143\n",
      "Epoch [    1/   50] | d_loss: 1.0803 | g_loss: 2.4378\n",
      "Epoch [    1/   50] | d_loss: 0.9122 | g_loss: 1.7198\n",
      "Epoch [    1/   50] | d_loss: 1.2945 | g_loss: 2.8239\n",
      "Epoch [    1/   50] | d_loss: 1.0188 | g_loss: 1.5588\n",
      "Epoch [    1/   50] | d_loss: 0.9764 | g_loss: 1.7555\n",
      "Epoch [    1/   50] | d_loss: 0.9904 | g_loss: 1.4867\n"
     ]
    },
    {
     "name": "stderr",
     "output_type": "stream",
     "text": [
      "\n",
      "  2%|▏         | 1/50 [01:51<1:31:14, 111.72s/it]\u001b[A"
     ]
    },
    {
     "name": "stdout",
     "output_type": "stream",
     "text": [
      "Epoch [    2/   50] | d_loss: 1.2500 | g_loss: 2.7268\n",
      "Epoch [    2/   50] | d_loss: 1.1229 | g_loss: 2.0701\n",
      "Epoch [    2/   50] | d_loss: 0.9163 | g_loss: 1.6274\n",
      "Epoch [    2/   50] | d_loss: 0.9962 | g_loss: 1.5898\n",
      "Epoch [    2/   50] | d_loss: 1.1231 | g_loss: 0.8927\n",
      "Epoch [    2/   50] | d_loss: 1.0183 | g_loss: 1.4684\n",
      "Epoch [    2/   50] | d_loss: 1.3228 | g_loss: 0.6739\n",
      "Epoch [    2/   50] | d_loss: 1.0872 | g_loss: 1.0976\n",
      "Epoch [    2/   50] | d_loss: 1.2447 | g_loss: 2.4153\n",
      "Epoch [    2/   50] | d_loss: 1.0423 | g_loss: 1.3199\n",
      "Epoch [    2/   50] | d_loss: 0.9355 | g_loss: 1.4955\n",
      "Epoch [    2/   50] | d_loss: 1.1305 | g_loss: 1.6315\n",
      "Epoch [    2/   50] | d_loss: 0.9811 | g_loss: 1.1514\n",
      "Epoch [    2/   50] | d_loss: 1.4121 | g_loss: 0.9739\n",
      "Epoch [    2/   50] | d_loss: 1.1949 | g_loss: 2.4230\n"
     ]
    },
    {
     "name": "stderr",
     "output_type": "stream",
     "text": [
      "\n",
      "  4%|▍         | 2/50 [03:42<1:29:14, 111.56s/it]\u001b[A"
     ]
    },
    {
     "name": "stdout",
     "output_type": "stream",
     "text": [
      "Epoch [    3/   50] | d_loss: 1.2239 | g_loss: 0.8645\n",
      "Epoch [    3/   50] | d_loss: 1.0036 | g_loss: 1.7026\n",
      "Epoch [    3/   50] | d_loss: 1.0541 | g_loss: 1.8419\n",
      "Epoch [    3/   50] | d_loss: 1.0705 | g_loss: 1.6746\n",
      "Epoch [    3/   50] | d_loss: 0.9074 | g_loss: 1.5164\n",
      "Epoch [    3/   50] | d_loss: 0.9628 | g_loss: 1.2117\n",
      "Epoch [    3/   50] | d_loss: 1.0944 | g_loss: 1.1294\n",
      "Epoch [    3/   50] | d_loss: 1.0506 | g_loss: 1.6682\n",
      "Epoch [    3/   50] | d_loss: 1.3880 | g_loss: 2.1084\n",
      "Epoch [    3/   50] | d_loss: 0.9452 | g_loss: 1.3460\n",
      "Epoch [    3/   50] | d_loss: 1.5734 | g_loss: 0.6544\n",
      "Epoch [    3/   50] | d_loss: 1.2134 | g_loss: 2.1370\n",
      "Epoch [    3/   50] | d_loss: 0.9069 | g_loss: 1.4635\n",
      "Epoch [    3/   50] | d_loss: 1.1594 | g_loss: 2.2047\n",
      "Epoch [    3/   50] | d_loss: 1.0585 | g_loss: 1.4278\n"
     ]
    },
    {
     "name": "stderr",
     "output_type": "stream",
     "text": [
      "\n",
      "  6%|▌         | 3/50 [05:34<1:27:29, 111.70s/it]\u001b[A"
     ]
    },
    {
     "name": "stdout",
     "output_type": "stream",
     "text": [
      "Epoch [    4/   50] | d_loss: 0.9594 | g_loss: 1.3634\n",
      "Epoch [    4/   50] | d_loss: 0.9726 | g_loss: 1.2408\n",
      "Epoch [    4/   50] | d_loss: 1.1870 | g_loss: 0.9363\n",
      "Epoch [    4/   50] | d_loss: 1.0913 | g_loss: 1.1150\n",
      "Epoch [    4/   50] | d_loss: 1.0327 | g_loss: 1.5893\n",
      "Epoch [    4/   50] | d_loss: 1.0023 | g_loss: 1.9996\n",
      "Epoch [    4/   50] | d_loss: 1.0203 | g_loss: 1.8248\n",
      "Epoch [    4/   50] | d_loss: 0.9508 | g_loss: 1.9233\n",
      "Epoch [    4/   50] | d_loss: 1.0926 | g_loss: 0.7285\n",
      "Epoch [    4/   50] | d_loss: 0.9263 | g_loss: 1.4471\n",
      "Epoch [    4/   50] | d_loss: 1.0908 | g_loss: 2.2297\n",
      "Epoch [    4/   50] | d_loss: 1.1347 | g_loss: 2.2539\n",
      "Epoch [    4/   50] | d_loss: 0.8790 | g_loss: 1.3145\n",
      "Epoch [    4/   50] | d_loss: 0.7974 | g_loss: 1.5845\n",
      "Epoch [    4/   50] | d_loss: 0.8995 | g_loss: 1.4617\n"
     ]
    },
    {
     "name": "stderr",
     "output_type": "stream",
     "text": [
      "\n",
      "  8%|▊         | 4/50 [07:26<1:25:33, 111.59s/it]\u001b[A"
     ]
    },
    {
     "name": "stdout",
     "output_type": "stream",
     "text": [
      "Epoch [    5/   50] | d_loss: 0.8634 | g_loss: 1.3806\n",
      "Epoch [    5/   50] | d_loss: 1.1345 | g_loss: 1.2146\n",
      "Epoch [    5/   50] | d_loss: 0.9929 | g_loss: 0.9399\n",
      "Epoch [    5/   50] | d_loss: 1.0865 | g_loss: 1.8810\n",
      "Epoch [    5/   50] | d_loss: 1.0128 | g_loss: 1.1775\n",
      "Epoch [    5/   50] | d_loss: 1.1490 | g_loss: 2.0402\n",
      "Epoch [    5/   50] | d_loss: 1.1675 | g_loss: 1.4656\n",
      "Epoch [    5/   50] | d_loss: 0.8926 | g_loss: 1.0981\n",
      "Epoch [    5/   50] | d_loss: 1.3096 | g_loss: 2.5735\n",
      "Epoch [    5/   50] | d_loss: 0.9232 | g_loss: 1.3886\n",
      "Epoch [    5/   50] | d_loss: 1.2911 | g_loss: 0.8056\n",
      "Epoch [    5/   50] | d_loss: 0.9960 | g_loss: 1.8352\n",
      "Epoch [    5/   50] | d_loss: 1.0501 | g_loss: 1.9407\n",
      "Epoch [    5/   50] | d_loss: 1.0109 | g_loss: 1.2271\n",
      "Epoch [    5/   50] | d_loss: 1.0442 | g_loss: 1.7062\n"
     ]
    },
    {
     "name": "stderr",
     "output_type": "stream",
     "text": [
      "\n",
      " 10%|█         | 5/50 [09:17<1:23:41, 111.58s/it]\u001b[A"
     ]
    },
    {
     "name": "stdout",
     "output_type": "stream",
     "text": [
      "Epoch [    6/   50] | d_loss: 0.9696 | g_loss: 1.4109\n",
      "Epoch [    6/   50] | d_loss: 1.1583 | g_loss: 2.3035\n",
      "Epoch [    6/   50] | d_loss: 0.9922 | g_loss: 1.1521\n",
      "Epoch [    6/   50] | d_loss: 1.1181 | g_loss: 1.8060\n",
      "Epoch [    6/   50] | d_loss: 1.0708 | g_loss: 2.0421\n",
      "Epoch [    6/   50] | d_loss: 1.0281 | g_loss: 2.1584\n",
      "Epoch [    6/   50] | d_loss: 1.3003 | g_loss: 2.3097\n",
      "Epoch [    6/   50] | d_loss: 1.1874 | g_loss: 1.3457\n",
      "Epoch [    6/   50] | d_loss: 1.1087 | g_loss: 1.8396\n",
      "Epoch [    6/   50] | d_loss: 0.9152 | g_loss: 2.4952\n",
      "Epoch [    6/   50] | d_loss: 0.9124 | g_loss: 1.1304\n",
      "Epoch [    6/   50] | d_loss: 0.9783 | g_loss: 1.5546\n",
      "Epoch [    6/   50] | d_loss: 0.9239 | g_loss: 2.3112\n",
      "Epoch [    6/   50] | d_loss: 1.0053 | g_loss: 1.4845\n",
      "Epoch [    6/   50] | d_loss: 1.0337 | g_loss: 2.3491\n"
     ]
    },
    {
     "name": "stderr",
     "output_type": "stream",
     "text": [
      "\n",
      " 12%|█▏        | 6/50 [11:09<1:21:48, 111.56s/it]\u001b[A"
     ]
    },
    {
     "name": "stdout",
     "output_type": "stream",
     "text": [
      "Epoch [    7/   50] | d_loss: 1.0304 | g_loss: 0.9448\n",
      "Epoch [    7/   50] | d_loss: 1.2766 | g_loss: 0.8699\n",
      "Epoch [    7/   50] | d_loss: 1.0280 | g_loss: 1.2333\n",
      "Epoch [    7/   50] | d_loss: 1.1749 | g_loss: 0.9525\n",
      "Epoch [    7/   50] | d_loss: 0.9591 | g_loss: 1.3307\n",
      "Epoch [    7/   50] | d_loss: 1.2350 | g_loss: 1.0440\n",
      "Epoch [    7/   50] | d_loss: 1.1023 | g_loss: 1.9099\n",
      "Epoch [    7/   50] | d_loss: 0.9285 | g_loss: 1.4559\n",
      "Epoch [    7/   50] | d_loss: 0.8909 | g_loss: 1.5781\n",
      "Epoch [    7/   50] | d_loss: 0.9406 | g_loss: 2.0706\n",
      "Epoch [    7/   50] | d_loss: 0.9714 | g_loss: 1.6530\n",
      "Epoch [    7/   50] | d_loss: 1.0158 | g_loss: 1.4125\n",
      "Epoch [    7/   50] | d_loss: 0.8850 | g_loss: 1.6824\n",
      "Epoch [    7/   50] | d_loss: 0.8916 | g_loss: 1.4332\n",
      "Epoch [    7/   50] | d_loss: 0.9694 | g_loss: 1.3677\n"
     ]
    },
    {
     "name": "stderr",
     "output_type": "stream",
     "text": [
      "\n",
      " 14%|█▍        | 7/50 [13:00<1:19:52, 111.45s/it]\u001b[A"
     ]
    },
    {
     "name": "stdout",
     "output_type": "stream",
     "text": [
      "Epoch [    8/   50] | d_loss: 0.9506 | g_loss: 1.8255\n",
      "Epoch [    8/   50] | d_loss: 1.0204 | g_loss: 1.6737\n",
      "Epoch [    8/   50] | d_loss: 1.1781 | g_loss: 1.1028\n",
      "Epoch [    8/   50] | d_loss: 0.9711 | g_loss: 1.2769\n",
      "Epoch [    8/   50] | d_loss: 0.9423 | g_loss: 0.9250\n",
      "Epoch [    8/   50] | d_loss: 0.7790 | g_loss: 1.5628\n",
      "Epoch [    8/   50] | d_loss: 0.9027 | g_loss: 2.2807\n",
      "Epoch [    8/   50] | d_loss: 0.9983 | g_loss: 0.9702\n",
      "Epoch [    8/   50] | d_loss: 0.8341 | g_loss: 1.5259\n",
      "Epoch [    8/   50] | d_loss: 0.9477 | g_loss: 2.2681\n",
      "Epoch [    8/   50] | d_loss: 1.0428 | g_loss: 0.9803\n",
      "Epoch [    8/   50] | d_loss: 0.9761 | g_loss: 1.2956\n",
      "Epoch [    8/   50] | d_loss: 0.9786 | g_loss: 2.0546\n",
      "Epoch [    8/   50] | d_loss: 0.9155 | g_loss: 2.1713\n",
      "Epoch [    8/   50] | d_loss: 0.8446 | g_loss: 1.5071\n"
     ]
    },
    {
     "name": "stderr",
     "output_type": "stream",
     "text": [
      "\n",
      " 16%|█▌        | 8/50 [14:52<1:18:01, 111.47s/it]\u001b[A"
     ]
    },
    {
     "name": "stdout",
     "output_type": "stream",
     "text": [
      "Epoch [    9/   50] | d_loss: 0.8618 | g_loss: 1.3928\n",
      "Epoch [    9/   50] | d_loss: 1.0333 | g_loss: 1.0939\n",
      "Epoch [    9/   50] | d_loss: 0.9707 | g_loss: 2.4158\n",
      "Epoch [    9/   50] | d_loss: 0.9280 | g_loss: 1.3167\n",
      "Epoch [    9/   50] | d_loss: 1.0102 | g_loss: 1.0907\n",
      "Epoch [    9/   50] | d_loss: 1.0872 | g_loss: 0.7919\n",
      "Epoch [    9/   50] | d_loss: 0.8553 | g_loss: 1.4817\n",
      "Epoch [    9/   50] | d_loss: 0.7944 | g_loss: 1.5412\n",
      "Epoch [    9/   50] | d_loss: 0.7865 | g_loss: 2.0603\n",
      "Epoch [    9/   50] | d_loss: 1.1703 | g_loss: 2.7457\n",
      "Epoch [    9/   50] | d_loss: 1.0883 | g_loss: 2.7726\n",
      "Epoch [    9/   50] | d_loss: 0.8382 | g_loss: 1.8497\n",
      "Epoch [    9/   50] | d_loss: 1.0006 | g_loss: 1.6178\n",
      "Epoch [    9/   50] | d_loss: 0.7903 | g_loss: 2.0130\n",
      "Epoch [    9/   50] | d_loss: 0.8471 | g_loss: 1.2375\n"
     ]
    },
    {
     "name": "stderr",
     "output_type": "stream",
     "text": [
      "\n",
      " 18%|█▊        | 9/50 [16:43<1:16:10, 111.48s/it]\u001b[A"
     ]
    },
    {
     "name": "stdout",
     "output_type": "stream",
     "text": [
      "Epoch [   10/   50] | d_loss: 0.9053 | g_loss: 2.4429\n",
      "Epoch [   10/   50] | d_loss: 0.7288 | g_loss: 1.9494\n",
      "Epoch [   10/   50] | d_loss: 1.1786 | g_loss: 2.8764\n",
      "Epoch [   10/   50] | d_loss: 0.7767 | g_loss: 1.8671\n",
      "Epoch [   10/   50] | d_loss: 0.8680 | g_loss: 1.6610\n",
      "Epoch [   10/   50] | d_loss: 0.8529 | g_loss: 2.1855\n",
      "Epoch [   10/   50] | d_loss: 0.6945 | g_loss: 1.8168\n",
      "Epoch [   10/   50] | d_loss: 1.7652 | g_loss: 0.4144\n",
      "Epoch [   10/   50] | d_loss: 0.9341 | g_loss: 2.2350\n",
      "Epoch [   10/   50] | d_loss: 0.9310 | g_loss: 3.4785\n",
      "Epoch [   10/   50] | d_loss: 0.9535 | g_loss: 1.3859\n",
      "Epoch [   10/   50] | d_loss: 0.8064 | g_loss: 1.5600\n",
      "Epoch [   10/   50] | d_loss: 0.7649 | g_loss: 2.2092\n",
      "Epoch [   10/   50] | d_loss: 0.9467 | g_loss: 2.5520\n",
      "Epoch [   10/   50] | d_loss: 0.6456 | g_loss: 1.8984\n"
     ]
    },
    {
     "name": "stderr",
     "output_type": "stream",
     "text": [
      "\n",
      " 20%|██        | 10/50 [18:34<1:14:16, 111.42s/it]\u001b[A"
     ]
    },
    {
     "name": "stdout",
     "output_type": "stream",
     "text": [
      "Epoch [   11/   50] | d_loss: 0.9375 | g_loss: 2.1410\n",
      "Epoch [   11/   50] | d_loss: 0.7184 | g_loss: 1.6001\n",
      "Epoch [   11/   50] | d_loss: 0.8342 | g_loss: 1.8864\n",
      "Epoch [   11/   50] | d_loss: 0.8475 | g_loss: 2.1942\n",
      "Epoch [   11/   50] | d_loss: 1.1138 | g_loss: 1.2493\n",
      "Epoch [   11/   50] | d_loss: 0.7147 | g_loss: 1.7251\n",
      "Epoch [   11/   50] | d_loss: 0.9972 | g_loss: 0.9744\n",
      "Epoch [   11/   50] | d_loss: 0.7258 | g_loss: 2.5859\n",
      "Epoch [   11/   50] | d_loss: 0.8847 | g_loss: 2.1719\n",
      "Epoch [   11/   50] | d_loss: 0.9637 | g_loss: 2.3936\n",
      "Epoch [   11/   50] | d_loss: 0.7295 | g_loss: 1.8861\n",
      "Epoch [   11/   50] | d_loss: 0.8288 | g_loss: 1.3567\n",
      "Epoch [   11/   50] | d_loss: 1.0734 | g_loss: 1.6986\n",
      "Epoch [   11/   50] | d_loss: 0.7826 | g_loss: 2.3213\n",
      "Epoch [   11/   50] | d_loss: 0.7832 | g_loss: 1.6999\n"
     ]
    },
    {
     "name": "stderr",
     "output_type": "stream",
     "text": [
      "\n",
      " 22%|██▏       | 11/50 [20:26<1:12:27, 111.47s/it]\u001b[A"
     ]
    },
    {
     "name": "stdout",
     "output_type": "stream",
     "text": [
      "Epoch [   12/   50] | d_loss: 1.1754 | g_loss: 3.3452\n",
      "Epoch [   12/   50] | d_loss: 0.7816 | g_loss: 1.6003\n",
      "Epoch [   12/   50] | d_loss: 0.9420 | g_loss: 1.2716\n",
      "Epoch [   12/   50] | d_loss: 0.7769 | g_loss: 1.2194\n",
      "Epoch [   12/   50] | d_loss: 0.7893 | g_loss: 1.9686\n",
      "Epoch [   12/   50] | d_loss: 0.7059 | g_loss: 2.2876\n",
      "Epoch [   12/   50] | d_loss: 0.7974 | g_loss: 1.3251\n",
      "Epoch [   12/   50] | d_loss: 0.8434 | g_loss: 2.1904\n",
      "Epoch [   12/   50] | d_loss: 0.7166 | g_loss: 2.3783\n",
      "Epoch [   12/   50] | d_loss: 0.6690 | g_loss: 2.4500\n",
      "Epoch [   12/   50] | d_loss: 0.8468 | g_loss: 1.6504\n",
      "Epoch [   12/   50] | d_loss: 0.6931 | g_loss: 2.1136\n",
      "Epoch [   12/   50] | d_loss: 0.7205 | g_loss: 2.5546\n",
      "Epoch [   12/   50] | d_loss: 0.7717 | g_loss: 2.1460\n",
      "Epoch [   12/   50] | d_loss: 0.7995 | g_loss: 1.4819\n"
     ]
    },
    {
     "name": "stderr",
     "output_type": "stream",
     "text": [
      "\n",
      " 24%|██▍       | 12/50 [22:17<1:10:30, 111.32s/it]\u001b[A"
     ]
    },
    {
     "name": "stdout",
     "output_type": "stream",
     "text": [
      "Epoch [   13/   50] | d_loss: 0.8424 | g_loss: 2.7667\n",
      "Epoch [   13/   50] | d_loss: 0.7632 | g_loss: 2.5380\n",
      "Epoch [   13/   50] | d_loss: 0.7605 | g_loss: 1.5620\n",
      "Epoch [   13/   50] | d_loss: 1.3044 | g_loss: 3.2947\n",
      "Epoch [   13/   50] | d_loss: 0.8826 | g_loss: 2.9123\n",
      "Epoch [   13/   50] | d_loss: 0.7343 | g_loss: 2.5721\n",
      "Epoch [   13/   50] | d_loss: 0.6929 | g_loss: 2.0825\n",
      "Epoch [   13/   50] | d_loss: 0.5896 | g_loss: 2.1091\n",
      "Epoch [   13/   50] | d_loss: 0.6492 | g_loss: 2.1924\n",
      "Epoch [   13/   50] | d_loss: 0.7323 | g_loss: 1.8717\n",
      "Epoch [   13/   50] | d_loss: 0.7945 | g_loss: 2.8315\n",
      "Epoch [   13/   50] | d_loss: 0.8151 | g_loss: 2.4454\n",
      "Epoch [   13/   50] | d_loss: 0.6965 | g_loss: 1.6839\n",
      "Epoch [   13/   50] | d_loss: 0.7187 | g_loss: 1.9467\n",
      "Epoch [   13/   50] | d_loss: 0.8194 | g_loss: 1.0843\n"
     ]
    },
    {
     "name": "stderr",
     "output_type": "stream",
     "text": [
      "\n",
      " 26%|██▌       | 13/50 [24:08<1:08:38, 111.32s/it]\u001b[A"
     ]
    },
    {
     "name": "stdout",
     "output_type": "stream",
     "text": [
      "Epoch [   14/   50] | d_loss: 0.7813 | g_loss: 2.2115\n",
      "Epoch [   14/   50] | d_loss: 0.6117 | g_loss: 2.4666\n",
      "Epoch [   14/   50] | d_loss: 0.8957 | g_loss: 0.9769\n",
      "Epoch [   14/   50] | d_loss: 0.7347 | g_loss: 2.5436\n",
      "Epoch [   14/   50] | d_loss: 0.7262 | g_loss: 2.7846\n",
      "Epoch [   14/   50] | d_loss: 0.7591 | g_loss: 1.1312\n",
      "Epoch [   14/   50] | d_loss: 0.6512 | g_loss: 2.0942\n",
      "Epoch [   14/   50] | d_loss: 1.1766 | g_loss: 1.2050\n",
      "Epoch [   14/   50] | d_loss: 0.7274 | g_loss: 1.8560\n",
      "Epoch [   14/   50] | d_loss: 0.6657 | g_loss: 3.2541\n",
      "Epoch [   14/   50] | d_loss: 0.6196 | g_loss: 1.9239\n",
      "Epoch [   14/   50] | d_loss: 0.7494 | g_loss: 1.1859\n",
      "Epoch [   14/   50] | d_loss: 0.6047 | g_loss: 1.9138\n",
      "Epoch [   14/   50] | d_loss: 0.7404 | g_loss: 1.8191\n",
      "Epoch [   14/   50] | d_loss: 0.8182 | g_loss: 3.2573\n"
     ]
    },
    {
     "name": "stderr",
     "output_type": "stream",
     "text": [
      "\n",
      " 28%|██▊       | 14/50 [26:00<1:06:47, 111.33s/it]\u001b[A"
     ]
    },
    {
     "name": "stdout",
     "output_type": "stream",
     "text": [
      "Epoch [   15/   50] | d_loss: 0.9364 | g_loss: 1.0622\n",
      "Epoch [   15/   50] | d_loss: 0.6326 | g_loss: 2.2992\n",
      "Epoch [   15/   50] | d_loss: 0.7788 | g_loss: 2.3137\n",
      "Epoch [   15/   50] | d_loss: 0.7099 | g_loss: 1.6860\n",
      "Epoch [   15/   50] | d_loss: 0.9695 | g_loss: 3.3806\n",
      "Epoch [   15/   50] | d_loss: 0.9865 | g_loss: 2.7516\n",
      "Epoch [   15/   50] | d_loss: 0.8089 | g_loss: 1.4136\n",
      "Epoch [   15/   50] | d_loss: 0.9253 | g_loss: 2.6711\n",
      "Epoch [   15/   50] | d_loss: 0.6320 | g_loss: 1.9678\n",
      "Epoch [   15/   50] | d_loss: 0.6716 | g_loss: 2.4337\n",
      "Epoch [   15/   50] | d_loss: 0.6770 | g_loss: 2.3011\n",
      "Epoch [   15/   50] | d_loss: 0.6476 | g_loss: 2.1226\n",
      "Epoch [   15/   50] | d_loss: 0.6663 | g_loss: 2.2930\n",
      "Epoch [   15/   50] | d_loss: 0.6558 | g_loss: 1.6983\n",
      "Epoch [   15/   50] | d_loss: 1.0728 | g_loss: 2.9242\n"
     ]
    },
    {
     "name": "stderr",
     "output_type": "stream",
     "text": [
      "\n",
      " 30%|███       | 15/50 [27:51<1:04:54, 111.26s/it]\u001b[A"
     ]
    },
    {
     "name": "stdout",
     "output_type": "stream",
     "text": [
      "Epoch [   16/   50] | d_loss: 1.7076 | g_loss: 0.9477\n",
      "Epoch [   16/   50] | d_loss: 0.5483 | g_loss: 2.6123\n",
      "Epoch [   16/   50] | d_loss: 1.3098 | g_loss: 0.7766\n",
      "Epoch [   16/   50] | d_loss: 1.0847 | g_loss: 4.3162\n",
      "Epoch [   16/   50] | d_loss: 0.7139 | g_loss: 1.3399\n",
      "Epoch [   16/   50] | d_loss: 0.9345 | g_loss: 3.6522\n",
      "Epoch [   16/   50] | d_loss: 0.5996 | g_loss: 2.0885\n",
      "Epoch [   16/   50] | d_loss: 0.7046 | g_loss: 2.6682\n",
      "Epoch [   16/   50] | d_loss: 0.6860 | g_loss: 1.6779\n",
      "Epoch [   16/   50] | d_loss: 0.9680 | g_loss: 3.5152\n",
      "Epoch [   16/   50] | d_loss: 0.5740 | g_loss: 2.2371\n",
      "Epoch [   16/   50] | d_loss: 0.6135 | g_loss: 2.3074\n",
      "Epoch [   16/   50] | d_loss: 0.6107 | g_loss: 2.8753\n",
      "Epoch [   16/   50] | d_loss: 0.7978 | g_loss: 1.2132\n",
      "Epoch [   16/   50] | d_loss: 0.7349 | g_loss: 2.1057\n"
     ]
    },
    {
     "name": "stderr",
     "output_type": "stream",
     "text": [
      "\n",
      " 32%|███▏      | 16/50 [29:42<1:03:02, 111.24s/it]\u001b[A"
     ]
    },
    {
     "name": "stdout",
     "output_type": "stream",
     "text": [
      "Epoch [   17/   50] | d_loss: 0.7480 | g_loss: 3.2721\n",
      "Epoch [   17/   50] | d_loss: 0.5828 | g_loss: 1.9549\n",
      "Epoch [   17/   50] | d_loss: 0.6019 | g_loss: 2.2875\n",
      "Epoch [   17/   50] | d_loss: 0.6038 | g_loss: 2.4528\n",
      "Epoch [   17/   50] | d_loss: 0.5875 | g_loss: 2.3948\n",
      "Epoch [   17/   50] | d_loss: 0.7926 | g_loss: 1.2936\n",
      "Epoch [   17/   50] | d_loss: 0.7275 | g_loss: 2.1561\n",
      "Epoch [   17/   50] | d_loss: 0.5924 | g_loss: 1.8065\n",
      "Epoch [   17/   50] | d_loss: 0.6456 | g_loss: 2.8087\n",
      "Epoch [   17/   50] | d_loss: 1.1886 | g_loss: 1.0365\n",
      "Epoch [   17/   50] | d_loss: 0.7827 | g_loss: 1.5751\n",
      "Epoch [   17/   50] | d_loss: 0.5423 | g_loss: 2.4680\n",
      "Epoch [   17/   50] | d_loss: 0.5863 | g_loss: 2.7324\n",
      "Epoch [   17/   50] | d_loss: 0.5691 | g_loss: 1.5833\n",
      "Epoch [   17/   50] | d_loss: 0.6846 | g_loss: 2.5374\n"
     ]
    },
    {
     "name": "stderr",
     "output_type": "stream",
     "text": [
      "\n",
      " 34%|███▍      | 17/50 [31:33<1:01:08, 111.18s/it]\u001b[A"
     ]
    },
    {
     "name": "stdout",
     "output_type": "stream",
     "text": [
      "Epoch [   18/   50] | d_loss: 0.5938 | g_loss: 1.9161\n",
      "Epoch [   18/   50] | d_loss: 1.0597 | g_loss: 2.2667\n",
      "Epoch [   18/   50] | d_loss: 0.5142 | g_loss: 2.7419\n",
      "Epoch [   18/   50] | d_loss: 0.9130 | g_loss: 3.2492\n",
      "Epoch [   18/   50] | d_loss: 0.5900 | g_loss: 2.6058\n",
      "Epoch [   18/   50] | d_loss: 0.5806 | g_loss: 3.2950\n",
      "Epoch [   18/   50] | d_loss: 0.6197 | g_loss: 2.6913\n",
      "Epoch [   18/   50] | d_loss: 1.0217 | g_loss: 3.4705\n",
      "Epoch [   18/   50] | d_loss: 0.8654 | g_loss: 1.6104\n",
      "Epoch [   18/   50] | d_loss: 0.6665 | g_loss: 2.8692\n",
      "Epoch [   18/   50] | d_loss: 0.6068 | g_loss: 2.5494\n",
      "Epoch [   18/   50] | d_loss: 0.6342 | g_loss: 3.0696\n",
      "Epoch [   18/   50] | d_loss: 0.5149 | g_loss: 1.9957\n",
      "Epoch [   18/   50] | d_loss: 0.8785 | g_loss: 1.2253\n",
      "Epoch [   18/   50] | d_loss: 0.5511 | g_loss: 2.5715\n"
     ]
    },
    {
     "name": "stderr",
     "output_type": "stream",
     "text": [
      "\n",
      " 36%|███▌      | 18/50 [33:24<59:18, 111.19s/it]  \u001b[A"
     ]
    },
    {
     "name": "stdout",
     "output_type": "stream",
     "text": [
      "Epoch [   19/   50] | d_loss: 0.6334 | g_loss: 2.7653\n",
      "Epoch [   19/   50] | d_loss: 0.4771 | g_loss: 2.3338\n",
      "Epoch [   19/   50] | d_loss: 0.6844 | g_loss: 2.0299\n",
      "Epoch [   19/   50] | d_loss: 1.2565 | g_loss: 0.5955\n",
      "Epoch [   19/   50] | d_loss: 0.7450 | g_loss: 2.9805\n",
      "Epoch [   19/   50] | d_loss: 0.5677 | g_loss: 2.7114\n",
      "Epoch [   19/   50] | d_loss: 0.5750 | g_loss: 2.3618\n",
      "Epoch [   19/   50] | d_loss: 0.7662 | g_loss: 3.0524\n",
      "Epoch [   19/   50] | d_loss: 0.6070 | g_loss: 2.4090\n",
      "Epoch [   19/   50] | d_loss: 0.5370 | g_loss: 2.9643\n",
      "Epoch [   19/   50] | d_loss: 0.7815 | g_loss: 1.5624\n",
      "Epoch [   19/   50] | d_loss: 0.5325 | g_loss: 2.3545\n",
      "Epoch [   19/   50] | d_loss: 0.6679 | g_loss: 2.6023\n",
      "Epoch [   19/   50] | d_loss: 0.5873 | g_loss: 2.5951\n",
      "Epoch [   19/   50] | d_loss: 0.5766 | g_loss: 3.3579\n"
     ]
    },
    {
     "name": "stderr",
     "output_type": "stream",
     "text": [
      "\n",
      " 38%|███▊      | 19/50 [35:15<57:23, 111.07s/it]\u001b[A"
     ]
    },
    {
     "name": "stdout",
     "output_type": "stream",
     "text": [
      "Epoch [   20/   50] | d_loss: 0.5268 | g_loss: 2.9388\n",
      "Epoch [   20/   50] | d_loss: 0.6996 | g_loss: 2.0751\n",
      "Epoch [   20/   50] | d_loss: 2.6586 | g_loss: 3.9595\n",
      "Epoch [   20/   50] | d_loss: 0.6288 | g_loss: 2.5471\n",
      "Epoch [   20/   50] | d_loss: 0.5020 | g_loss: 2.4122\n",
      "Epoch [   20/   50] | d_loss: 0.5547 | g_loss: 2.7339\n",
      "Epoch [   20/   50] | d_loss: 0.5410 | g_loss: 2.6739\n",
      "Epoch [   20/   50] | d_loss: 0.5904 | g_loss: 3.5500\n",
      "Epoch [   20/   50] | d_loss: 0.4949 | g_loss: 2.5208\n",
      "Epoch [   20/   50] | d_loss: 0.6165 | g_loss: 2.7723\n",
      "Epoch [   20/   50] | d_loss: 0.5453 | g_loss: 2.4294\n",
      "Epoch [   20/   50] | d_loss: 1.1645 | g_loss: 0.8889\n",
      "Epoch [   20/   50] | d_loss: 0.4451 | g_loss: 3.3653\n",
      "Epoch [   20/   50] | d_loss: 0.6174 | g_loss: 2.0692\n",
      "Epoch [   20/   50] | d_loss: 0.5527 | g_loss: 2.3682\n"
     ]
    },
    {
     "name": "stderr",
     "output_type": "stream",
     "text": [
      "\n",
      " 40%|████      | 20/50 [37:06<55:33, 111.11s/it]\u001b[A"
     ]
    },
    {
     "name": "stdout",
     "output_type": "stream",
     "text": [
      "Epoch [   21/   50] | d_loss: 0.5573 | g_loss: 2.1842\n",
      "Epoch [   21/   50] | d_loss: 0.6452 | g_loss: 1.4777\n",
      "Epoch [   21/   50] | d_loss: 0.6751 | g_loss: 2.0964\n",
      "Epoch [   21/   50] | d_loss: 0.5545 | g_loss: 3.6640\n",
      "Epoch [   21/   50] | d_loss: 0.5706 | g_loss: 2.4561\n",
      "Epoch [   21/   50] | d_loss: 0.5123 | g_loss: 3.7517\n",
      "Epoch [   21/   50] | d_loss: 0.9098 | g_loss: 1.1507\n",
      "Epoch [   21/   50] | d_loss: 0.5763 | g_loss: 1.9697\n",
      "Epoch [   21/   50] | d_loss: 0.5071 | g_loss: 2.5872\n",
      "Epoch [   21/   50] | d_loss: 0.4928 | g_loss: 2.5054\n",
      "Epoch [   21/   50] | d_loss: 0.5941 | g_loss: 2.4494\n",
      "Epoch [   21/   50] | d_loss: 0.5501 | g_loss: 2.5358\n",
      "Epoch [   21/   50] | d_loss: 0.5556 | g_loss: 2.7163\n",
      "Epoch [   21/   50] | d_loss: 0.5130 | g_loss: 2.4043\n",
      "Epoch [   21/   50] | d_loss: 0.6837 | g_loss: 2.9081\n"
     ]
    },
    {
     "name": "stderr",
     "output_type": "stream",
     "text": [
      "\n",
      " 42%|████▏     | 21/50 [38:58<53:45, 111.21s/it]\u001b[A"
     ]
    },
    {
     "name": "stdout",
     "output_type": "stream",
     "text": [
      "Epoch [   22/   50] | d_loss: 0.4816 | g_loss: 2.3905\n",
      "Epoch [   22/   50] | d_loss: 0.5400 | g_loss: 2.6285\n",
      "Epoch [   22/   50] | d_loss: 0.4891 | g_loss: 2.5715\n",
      "Epoch [   22/   50] | d_loss: 0.6290 | g_loss: 2.1659\n",
      "Epoch [   22/   50] | d_loss: 0.7576 | g_loss: 2.7888\n",
      "Epoch [   22/   50] | d_loss: 0.5301 | g_loss: 2.0392\n",
      "Epoch [   22/   50] | d_loss: 0.4576 | g_loss: 2.6528\n",
      "Epoch [   22/   50] | d_loss: 0.6062 | g_loss: 1.8014\n",
      "Epoch [   22/   50] | d_loss: 0.4853 | g_loss: 2.8990\n",
      "Epoch [   22/   50] | d_loss: 0.5847 | g_loss: 2.1001\n",
      "Epoch [   22/   50] | d_loss: 0.8217 | g_loss: 2.1835\n",
      "Epoch [   22/   50] | d_loss: 0.6690 | g_loss: 3.2233\n",
      "Epoch [   22/   50] | d_loss: 0.9828 | g_loss: 1.5779\n",
      "Epoch [   22/   50] | d_loss: 0.6142 | g_loss: 2.9681\n",
      "Epoch [   22/   50] | d_loss: 0.6141 | g_loss: 1.3118\n"
     ]
    },
    {
     "name": "stderr",
     "output_type": "stream",
     "text": [
      "\n",
      " 44%|████▍     | 22/50 [40:48<51:49, 111.07s/it]\u001b[A"
     ]
    },
    {
     "name": "stdout",
     "output_type": "stream",
     "text": [
      "Epoch [   23/   50] | d_loss: 0.4784 | g_loss: 2.6688\n",
      "Epoch [   23/   50] | d_loss: 0.4431 | g_loss: 2.9879\n",
      "Epoch [   23/   50] | d_loss: 0.6747 | g_loss: 3.2695\n",
      "Epoch [   23/   50] | d_loss: 0.5891 | g_loss: 3.9392\n",
      "Epoch [   23/   50] | d_loss: 0.7185 | g_loss: 3.4072\n",
      "Epoch [   23/   50] | d_loss: 0.5026 | g_loss: 2.6002\n",
      "Epoch [   23/   50] | d_loss: 0.5683 | g_loss: 1.8997\n",
      "Epoch [   23/   50] | d_loss: 0.5523 | g_loss: 3.1422\n",
      "Epoch [   23/   50] | d_loss: 0.5081 | g_loss: 2.6420\n",
      "Epoch [   23/   50] | d_loss: 0.6194 | g_loss: 2.2820\n",
      "Epoch [   23/   50] | d_loss: 0.8857 | g_loss: 3.9132\n",
      "Epoch [   23/   50] | d_loss: 0.9213 | g_loss: 3.1912\n",
      "Epoch [   23/   50] | d_loss: 0.6884 | g_loss: 1.3110\n",
      "Epoch [   23/   50] | d_loss: 0.6421 | g_loss: 2.3822\n",
      "Epoch [   23/   50] | d_loss: 0.5177 | g_loss: 2.2820\n"
     ]
    },
    {
     "name": "stderr",
     "output_type": "stream",
     "text": [
      "\n",
      " 46%|████▌     | 23/50 [42:40<50:00, 111.15s/it]\u001b[A"
     ]
    },
    {
     "name": "stdout",
     "output_type": "stream",
     "text": [
      "Epoch [   24/   50] | d_loss: 0.4569 | g_loss: 3.6401\n",
      "Epoch [   24/   50] | d_loss: 0.6203 | g_loss: 2.9352\n",
      "Epoch [   24/   50] | d_loss: 0.7174 | g_loss: 4.2948\n",
      "Epoch [   24/   50] | d_loss: 0.4166 | g_loss: 3.3197\n",
      "Epoch [   24/   50] | d_loss: 0.4282 | g_loss: 3.0358\n",
      "Epoch [   24/   50] | d_loss: 0.4960 | g_loss: 2.8073\n",
      "Epoch [   24/   50] | d_loss: 0.5313 | g_loss: 3.0837\n",
      "Epoch [   24/   50] | d_loss: 0.5660 | g_loss: 1.9937\n",
      "Epoch [   24/   50] | d_loss: 0.4546 | g_loss: 2.6820\n",
      "Epoch [   24/   50] | d_loss: 0.5658 | g_loss: 2.4063\n",
      "Epoch [   24/   50] | d_loss: 0.5338 | g_loss: 3.4677\n",
      "Epoch [   24/   50] | d_loss: 1.1041 | g_loss: 4.6106\n",
      "Epoch [   24/   50] | d_loss: 0.5844 | g_loss: 2.4930\n",
      "Epoch [   24/   50] | d_loss: 0.7845 | g_loss: 1.8035\n",
      "Epoch [   24/   50] | d_loss: 0.5242 | g_loss: 3.4840\n"
     ]
    },
    {
     "name": "stderr",
     "output_type": "stream",
     "text": [
      "\n",
      " 48%|████▊     | 24/50 [44:31<48:10, 111.19s/it]\u001b[A"
     ]
    },
    {
     "name": "stdout",
     "output_type": "stream",
     "text": [
      "Epoch [   25/   50] | d_loss: 0.5540 | g_loss: 3.9090\n",
      "Epoch [   25/   50] | d_loss: 0.4938 | g_loss: 1.9990\n",
      "Epoch [   25/   50] | d_loss: 0.4028 | g_loss: 3.9195\n",
      "Epoch [   25/   50] | d_loss: 0.5289 | g_loss: 2.4354\n",
      "Epoch [   25/   50] | d_loss: 0.4254 | g_loss: 3.3510\n",
      "Epoch [   25/   50] | d_loss: 1.3878 | g_loss: 0.6690\n",
      "Epoch [   25/   50] | d_loss: 0.5907 | g_loss: 2.7965\n",
      "Epoch [   25/   50] | d_loss: 0.5671 | g_loss: 2.6385\n",
      "Epoch [   25/   50] | d_loss: 0.8161 | g_loss: 1.3182\n",
      "Epoch [   25/   50] | d_loss: 0.6822 | g_loss: 1.7817\n",
      "Epoch [   25/   50] | d_loss: 0.5667 | g_loss: 2.2147\n",
      "Epoch [   25/   50] | d_loss: 0.5664 | g_loss: 3.7377\n",
      "Epoch [   25/   50] | d_loss: 0.4799 | g_loss: 2.7998\n",
      "Epoch [   25/   50] | d_loss: 0.4695 | g_loss: 2.3110\n",
      "Epoch [   25/   50] | d_loss: 1.7838 | g_loss: 2.8529\n"
     ]
    },
    {
     "name": "stderr",
     "output_type": "stream",
     "text": [
      "\n",
      " 50%|█████     | 25/50 [46:22<46:19, 111.16s/it]\u001b[A"
     ]
    },
    {
     "name": "stdout",
     "output_type": "stream",
     "text": [
      "Epoch [   26/   50] | d_loss: 1.6110 | g_loss: 1.0693\n",
      "Epoch [   26/   50] | d_loss: 0.4695 | g_loss: 2.1619\n",
      "Epoch [   26/   50] | d_loss: 0.5044 | g_loss: 2.6499\n",
      "Epoch [   26/   50] | d_loss: 0.5985 | g_loss: 2.1973\n",
      "Epoch [   26/   50] | d_loss: 0.4406 | g_loss: 2.6315\n",
      "Epoch [   26/   50] | d_loss: 0.5404 | g_loss: 3.9292\n",
      "Epoch [   26/   50] | d_loss: 0.5683 | g_loss: 3.3344\n",
      "Epoch [   26/   50] | d_loss: 0.5869 | g_loss: 3.7378\n",
      "Epoch [   26/   50] | d_loss: 0.5629 | g_loss: 2.2492\n",
      "Epoch [   26/   50] | d_loss: 0.5363 | g_loss: 2.8600\n",
      "Epoch [   26/   50] | d_loss: 0.4724 | g_loss: 2.8869\n",
      "Epoch [   26/   50] | d_loss: 0.5531 | g_loss: 2.9844\n",
      "Epoch [   26/   50] | d_loss: 0.9259 | g_loss: 4.8337\n",
      "Epoch [   26/   50] | d_loss: 0.5810 | g_loss: 2.6638\n",
      "Epoch [   26/   50] | d_loss: 0.7023 | g_loss: 1.3785\n"
     ]
    },
    {
     "name": "stderr",
     "output_type": "stream",
     "text": [
      "\n",
      " 52%|█████▏    | 26/50 [48:13<44:27, 111.14s/it]\u001b[A"
     ]
    },
    {
     "name": "stdout",
     "output_type": "stream",
     "text": [
      "Epoch [   27/   50] | d_loss: 1.0964 | g_loss: 2.9695\n",
      "Epoch [   27/   50] | d_loss: 0.4387 | g_loss: 3.3585\n",
      "Epoch [   27/   50] | d_loss: 0.4397 | g_loss: 3.1392\n",
      "Epoch [   27/   50] | d_loss: 0.5454 | g_loss: 3.0347\n",
      "Epoch [   27/   50] | d_loss: 0.6868 | g_loss: 3.3258\n",
      "Epoch [   27/   50] | d_loss: 0.4523 | g_loss: 3.0664\n",
      "Epoch [   27/   50] | d_loss: 0.4545 | g_loss: 2.2378\n",
      "Epoch [   27/   50] | d_loss: 0.4619 | g_loss: 2.4638\n",
      "Epoch [   27/   50] | d_loss: 0.5069 | g_loss: 3.2103\n",
      "Epoch [   27/   50] | d_loss: 0.6236 | g_loss: 1.7246\n",
      "Epoch [   27/   50] | d_loss: 0.5281 | g_loss: 2.6048\n",
      "Epoch [   27/   50] | d_loss: 0.5189 | g_loss: 2.1268\n",
      "Epoch [   27/   50] | d_loss: 0.4402 | g_loss: 3.7790\n",
      "Epoch [   27/   50] | d_loss: 1.0025 | g_loss: 3.0794\n",
      "Epoch [   27/   50] | d_loss: 0.5300 | g_loss: 2.2823\n"
     ]
    },
    {
     "name": "stderr",
     "output_type": "stream",
     "text": [
      "\n",
      " 54%|█████▍    | 27/50 [50:04<42:32, 110.99s/it]\u001b[A"
     ]
    },
    {
     "name": "stdout",
     "output_type": "stream",
     "text": [
      "Epoch [   28/   50] | d_loss: 0.5131 | g_loss: 2.1673\n",
      "Epoch [   28/   50] | d_loss: 0.9668 | g_loss: 2.3519\n",
      "Epoch [   28/   50] | d_loss: 0.5469 | g_loss: 2.8295\n",
      "Epoch [   28/   50] | d_loss: 0.4430 | g_loss: 2.9976\n",
      "Epoch [   28/   50] | d_loss: 0.4836 | g_loss: 4.1559\n",
      "Epoch [   28/   50] | d_loss: 0.5119 | g_loss: 3.3009\n",
      "Epoch [   28/   50] | d_loss: 0.4292 | g_loss: 3.1152\n",
      "Epoch [   28/   50] | d_loss: 0.5216 | g_loss: 3.1190\n",
      "Epoch [   28/   50] | d_loss: 0.5003 | g_loss: 2.2028\n",
      "Epoch [   28/   50] | d_loss: 0.4374 | g_loss: 3.5197\n",
      "Epoch [   28/   50] | d_loss: 0.4258 | g_loss: 3.4740\n",
      "Epoch [   28/   50] | d_loss: 0.4663 | g_loss: 3.2739\n",
      "Epoch [   28/   50] | d_loss: 0.4611 | g_loss: 3.0938\n",
      "Epoch [   28/   50] | d_loss: 0.5330 | g_loss: 1.9164\n",
      "Epoch [   28/   50] | d_loss: 0.5474 | g_loss: 2.5039\n"
     ]
    },
    {
     "name": "stderr",
     "output_type": "stream",
     "text": [
      "\n",
      " 56%|█████▌    | 28/50 [51:55<40:42, 111.02s/it]\u001b[A"
     ]
    },
    {
     "name": "stdout",
     "output_type": "stream",
     "text": [
      "Epoch [   29/   50] | d_loss: 0.4817 | g_loss: 2.6934\n",
      "Epoch [   29/   50] | d_loss: 0.4226 | g_loss: 3.4457\n",
      "Epoch [   29/   50] | d_loss: 0.6290 | g_loss: 3.0305\n",
      "Epoch [   29/   50] | d_loss: 0.4331 | g_loss: 2.6302\n",
      "Epoch [   29/   50] | d_loss: 0.8109 | g_loss: 1.8298\n",
      "Epoch [   29/   50] | d_loss: 0.3830 | g_loss: 3.7401\n",
      "Epoch [   29/   50] | d_loss: 0.4729 | g_loss: 3.2118\n",
      "Epoch [   29/   50] | d_loss: 0.5204 | g_loss: 2.4693\n",
      "Epoch [   29/   50] | d_loss: 0.4890 | g_loss: 2.4751\n",
      "Epoch [   29/   50] | d_loss: 0.4640 | g_loss: 4.1139\n",
      "Epoch [   29/   50] | d_loss: 0.4042 | g_loss: 3.6721\n",
      "Epoch [   29/   50] | d_loss: 1.2375 | g_loss: 1.1537\n",
      "Epoch [   29/   50] | d_loss: 0.4819 | g_loss: 3.0825\n",
      "Epoch [   29/   50] | d_loss: 0.5424 | g_loss: 2.5987\n",
      "Epoch [   29/   50] | d_loss: 0.5029 | g_loss: 2.8669\n"
     ]
    },
    {
     "name": "stderr",
     "output_type": "stream",
     "text": [
      "\n",
      " 58%|█████▊    | 29/50 [53:46<38:53, 111.13s/it]\u001b[A"
     ]
    },
    {
     "name": "stdout",
     "output_type": "stream",
     "text": [
      "Epoch [   30/   50] | d_loss: 0.4660 | g_loss: 2.0070\n",
      "Epoch [   30/   50] | d_loss: 0.4134 | g_loss: 4.4088\n",
      "Epoch [   30/   50] | d_loss: 0.5356 | g_loss: 2.1325\n",
      "Epoch [   30/   50] | d_loss: 0.4802 | g_loss: 2.9075\n",
      "Epoch [   30/   50] | d_loss: 0.6157 | g_loss: 4.3695\n",
      "Epoch [   30/   50] | d_loss: 0.8437 | g_loss: 3.0689\n",
      "Epoch [   30/   50] | d_loss: 0.4632 | g_loss: 2.3275\n",
      "Epoch [   30/   50] | d_loss: 0.4786 | g_loss: 3.4520\n",
      "Epoch [   30/   50] | d_loss: 0.7060 | g_loss: 5.3638\n",
      "Epoch [   30/   50] | d_loss: 0.5374 | g_loss: 3.4181\n",
      "Epoch [   30/   50] | d_loss: 0.4389 | g_loss: 2.9904\n",
      "Epoch [   30/   50] | d_loss: 0.5347 | g_loss: 2.4031\n",
      "Epoch [   30/   50] | d_loss: 1.5747 | g_loss: 0.4986\n",
      "Epoch [   30/   50] | d_loss: 0.4777 | g_loss: 3.3663\n",
      "Epoch [   30/   50] | d_loss: 0.7280 | g_loss: 1.9005\n"
     ]
    },
    {
     "name": "stderr",
     "output_type": "stream",
     "text": [
      "\n",
      " 60%|██████    | 30/50 [55:37<37:00, 111.03s/it]\u001b[A"
     ]
    },
    {
     "name": "stdout",
     "output_type": "stream",
     "text": [
      "Epoch [   31/   50] | d_loss: 0.4399 | g_loss: 2.5530\n",
      "Epoch [   31/   50] | d_loss: 0.4222 | g_loss: 3.9494\n",
      "Epoch [   31/   50] | d_loss: 0.4145 | g_loss: 3.6495\n",
      "Epoch [   31/   50] | d_loss: 0.4242 | g_loss: 2.6751\n",
      "Epoch [   31/   50] | d_loss: 0.4423 | g_loss: 4.1207\n",
      "Epoch [   31/   50] | d_loss: 0.4029 | g_loss: 3.2936\n",
      "Epoch [   31/   50] | d_loss: 0.5416 | g_loss: 2.1493\n",
      "Epoch [   31/   50] | d_loss: 0.4460 | g_loss: 3.1040\n",
      "Epoch [   31/   50] | d_loss: 0.6708 | g_loss: 3.5156\n",
      "Epoch [   31/   50] | d_loss: 0.9285 | g_loss: 4.6347\n",
      "Epoch [   31/   50] | d_loss: 1.1328 | g_loss: 3.9688\n",
      "Epoch [   31/   50] | d_loss: 0.5096 | g_loss: 3.0296\n",
      "Epoch [   31/   50] | d_loss: 0.4977 | g_loss: 2.9990\n",
      "Epoch [   31/   50] | d_loss: 0.4402 | g_loss: 3.7320\n",
      "Epoch [   31/   50] | d_loss: 0.5114 | g_loss: 2.3012\n"
     ]
    },
    {
     "name": "stderr",
     "output_type": "stream",
     "text": [
      "\n",
      " 62%|██████▏   | 31/50 [57:28<35:11, 111.15s/it]\u001b[A"
     ]
    },
    {
     "name": "stdout",
     "output_type": "stream",
     "text": [
      "Epoch [   32/   50] | d_loss: 0.6915 | g_loss: 1.6081\n",
      "Epoch [   32/   50] | d_loss: 0.4121 | g_loss: 2.9226\n",
      "Epoch [   32/   50] | d_loss: 0.5378 | g_loss: 2.1056\n",
      "Epoch [   32/   50] | d_loss: 0.4467 | g_loss: 4.0475\n",
      "Epoch [   32/   50] | d_loss: 0.4496 | g_loss: 3.4075\n",
      "Epoch [   32/   50] | d_loss: 0.6185 | g_loss: 2.3982\n",
      "Epoch [   32/   50] | d_loss: 0.5794 | g_loss: 2.4463\n",
      "Epoch [   32/   50] | d_loss: 0.4499 | g_loss: 3.3997\n",
      "Epoch [   32/   50] | d_loss: 0.4492 | g_loss: 2.8540\n",
      "Epoch [   32/   50] | d_loss: 0.4216 | g_loss: 3.5585\n",
      "Epoch [   32/   50] | d_loss: 0.4869 | g_loss: 1.9462\n",
      "Epoch [   32/   50] | d_loss: 0.5258 | g_loss: 3.1540\n",
      "Epoch [   32/   50] | d_loss: 0.4222 | g_loss: 2.7249\n",
      "Epoch [   32/   50] | d_loss: 1.2296 | g_loss: 5.3130\n",
      "Epoch [   32/   50] | d_loss: 0.4612 | g_loss: 2.9440\n"
     ]
    },
    {
     "name": "stderr",
     "output_type": "stream",
     "text": [
      "\n",
      " 64%|██████▍   | 32/50 [59:20<33:21, 111.17s/it]\u001b[A"
     ]
    },
    {
     "name": "stdout",
     "output_type": "stream",
     "text": [
      "Epoch [   33/   50] | d_loss: 1.1730 | g_loss: 3.3999\n",
      "Epoch [   33/   50] | d_loss: 0.5014 | g_loss: 3.4763\n",
      "Epoch [   33/   50] | d_loss: 0.4871 | g_loss: 2.5943\n",
      "Epoch [   33/   50] | d_loss: 0.6516 | g_loss: 4.2216\n",
      "Epoch [   33/   50] | d_loss: 0.4434 | g_loss: 2.6543\n",
      "Epoch [   33/   50] | d_loss: 0.4035 | g_loss: 3.7518\n",
      "Epoch [   33/   50] | d_loss: 0.5260 | g_loss: 2.8112\n",
      "Epoch [   33/   50] | d_loss: 0.4330 | g_loss: 2.5047\n",
      "Epoch [   33/   50] | d_loss: 0.4125 | g_loss: 3.3561\n",
      "Epoch [   33/   50] | d_loss: 0.5926 | g_loss: 4.0484\n",
      "Epoch [   33/   50] | d_loss: 0.8656 | g_loss: 1.9179\n",
      "Epoch [   33/   50] | d_loss: 0.4206 | g_loss: 2.8169\n",
      "Epoch [   33/   50] | d_loss: 0.5125 | g_loss: 4.3464\n",
      "Epoch [   33/   50] | d_loss: 0.4543 | g_loss: 2.8449\n",
      "Epoch [   33/   50] | d_loss: 0.4368 | g_loss: 3.2219\n"
     ]
    },
    {
     "name": "stderr",
     "output_type": "stream",
     "text": [
      "\n",
      " 66%|██████▌   | 33/50 [1:01:10<31:28, 111.06s/it]\u001b[A"
     ]
    },
    {
     "name": "stdout",
     "output_type": "stream",
     "text": [
      "Epoch [   34/   50] | d_loss: 0.4830 | g_loss: 3.0204\n",
      "Epoch [   34/   50] | d_loss: 0.4511 | g_loss: 2.9122\n",
      "Epoch [   34/   50] | d_loss: 0.3867 | g_loss: 3.7521\n",
      "Epoch [   34/   50] | d_loss: 0.4576 | g_loss: 2.6154\n",
      "Epoch [   34/   50] | d_loss: 0.6233 | g_loss: 3.9915\n",
      "Epoch [   34/   50] | d_loss: 0.9951 | g_loss: 4.1269\n",
      "Epoch [   34/   50] | d_loss: 0.4436 | g_loss: 3.6576\n",
      "Epoch [   34/   50] | d_loss: 0.4526 | g_loss: 2.9619\n",
      "Epoch [   34/   50] | d_loss: 0.5136 | g_loss: 2.2717\n",
      "Epoch [   34/   50] | d_loss: 0.4955 | g_loss: 3.6147\n",
      "Epoch [   34/   50] | d_loss: 0.4200 | g_loss: 3.7242\n",
      "Epoch [   34/   50] | d_loss: 0.5741 | g_loss: 1.2036\n",
      "Epoch [   34/   50] | d_loss: 0.4119 | g_loss: 3.6075\n",
      "Epoch [   34/   50] | d_loss: 0.4833 | g_loss: 2.7661\n",
      "Epoch [   34/   50] | d_loss: 0.3840 | g_loss: 3.9256\n"
     ]
    },
    {
     "name": "stderr",
     "output_type": "stream",
     "text": [
      "\n",
      " 68%|██████▊   | 34/50 [1:03:02<29:39, 111.19s/it]\u001b[A"
     ]
    },
    {
     "name": "stdout",
     "output_type": "stream",
     "text": [
      "Epoch [   35/   50] | d_loss: 0.4511 | g_loss: 4.1850\n",
      "Epoch [   35/   50] | d_loss: 0.4568 | g_loss: 4.5441\n",
      "Epoch [   35/   50] | d_loss: 0.4063 | g_loss: 3.5308\n",
      "Epoch [   35/   50] | d_loss: 0.3916 | g_loss: 3.9382\n",
      "Epoch [   35/   50] | d_loss: 0.4845 | g_loss: 2.5714\n",
      "Epoch [   35/   50] | d_loss: 0.5100 | g_loss: 2.5989\n",
      "Epoch [   35/   50] | d_loss: 0.4631 | g_loss: 4.8084\n",
      "Epoch [   35/   50] | d_loss: 0.3803 | g_loss: 4.0541\n",
      "Epoch [   35/   50] | d_loss: 1.1487 | g_loss: 1.0877\n",
      "Epoch [   35/   50] | d_loss: 0.4371 | g_loss: 2.3672\n",
      "Epoch [   35/   50] | d_loss: 0.4845 | g_loss: 3.0969\n",
      "Epoch [   35/   50] | d_loss: 0.7031 | g_loss: 2.0470\n",
      "Epoch [   35/   50] | d_loss: 0.4788 | g_loss: 4.1434\n",
      "Epoch [   35/   50] | d_loss: 0.4509 | g_loss: 3.8716\n",
      "Epoch [   35/   50] | d_loss: 0.5004 | g_loss: 2.6506\n"
     ]
    },
    {
     "name": "stderr",
     "output_type": "stream",
     "text": [
      "\n",
      " 70%|███████   | 35/50 [1:04:53<27:46, 111.08s/it]\u001b[A"
     ]
    },
    {
     "name": "stdout",
     "output_type": "stream",
     "text": [
      "Epoch [   36/   50] | d_loss: 0.5460 | g_loss: 1.8959\n",
      "Epoch [   36/   50] | d_loss: 0.4359 | g_loss: 3.9851\n",
      "Epoch [   36/   50] | d_loss: 1.1171 | g_loss: 0.7780\n",
      "Epoch [   36/   50] | d_loss: 0.4211 | g_loss: 3.0030\n",
      "Epoch [   36/   50] | d_loss: 0.5315 | g_loss: 2.0981\n",
      "Epoch [   36/   50] | d_loss: 0.4374 | g_loss: 2.2660\n",
      "Epoch [   36/   50] | d_loss: 0.6275 | g_loss: 2.1777\n",
      "Epoch [   36/   50] | d_loss: 0.4495 | g_loss: 2.7860\n",
      "Epoch [   36/   50] | d_loss: 0.4396 | g_loss: 3.2047\n",
      "Epoch [   36/   50] | d_loss: 0.4447 | g_loss: 2.3341\n",
      "Epoch [   36/   50] | d_loss: 0.4030 | g_loss: 4.4355\n",
      "Epoch [   36/   50] | d_loss: 0.5418 | g_loss: 2.3344\n",
      "Epoch [   36/   50] | d_loss: 0.4091 | g_loss: 3.8501\n",
      "Epoch [   36/   50] | d_loss: 0.3783 | g_loss: 4.1227\n",
      "Epoch [   36/   50] | d_loss: 0.4703 | g_loss: 3.4926\n"
     ]
    },
    {
     "name": "stderr",
     "output_type": "stream",
     "text": [
      "\n",
      " 72%|███████▏  | 36/50 [1:06:43<25:53, 110.97s/it]\u001b[A"
     ]
    },
    {
     "name": "stdout",
     "output_type": "stream",
     "text": [
      "Epoch [   37/   50] | d_loss: 0.9355 | g_loss: 4.0092\n",
      "Epoch [   37/   50] | d_loss: 0.4256 | g_loss: 3.1899\n",
      "Epoch [   37/   50] | d_loss: 0.4340 | g_loss: 3.3032\n",
      "Epoch [   37/   50] | d_loss: 0.4562 | g_loss: 2.8080\n",
      "Epoch [   37/   50] | d_loss: 0.4154 | g_loss: 3.1315\n",
      "Epoch [   37/   50] | d_loss: 0.4337 | g_loss: 4.0922\n",
      "Epoch [   37/   50] | d_loss: 0.4712 | g_loss: 3.5360\n",
      "Epoch [   37/   50] | d_loss: 0.5876 | g_loss: 3.6791\n",
      "Epoch [   37/   50] | d_loss: 0.5363 | g_loss: 2.8317\n",
      "Epoch [   37/   50] | d_loss: 0.5353 | g_loss: 2.1229\n",
      "Epoch [   37/   50] | d_loss: 0.6226 | g_loss: 4.0863\n",
      "Epoch [   37/   50] | d_loss: 0.4934 | g_loss: 3.5283\n",
      "Epoch [   37/   50] | d_loss: 0.4606 | g_loss: 3.3106\n",
      "Epoch [   37/   50] | d_loss: 0.5567 | g_loss: 4.2204\n",
      "Epoch [   37/   50] | d_loss: 0.3925 | g_loss: 2.7567\n"
     ]
    },
    {
     "name": "stderr",
     "output_type": "stream",
     "text": [
      "\n",
      " 74%|███████▍  | 37/50 [1:08:35<24:06, 111.23s/it]\u001b[A"
     ]
    },
    {
     "name": "stdout",
     "output_type": "stream",
     "text": [
      "Epoch [   38/   50] | d_loss: 0.4552 | g_loss: 3.0690\n",
      "Epoch [   38/   50] | d_loss: 0.6114 | g_loss: 2.3843\n",
      "Epoch [   38/   50] | d_loss: 0.4080 | g_loss: 3.2866\n",
      "Epoch [   38/   50] | d_loss: 0.4030 | g_loss: 4.1134\n",
      "Epoch [   38/   50] | d_loss: 0.5594 | g_loss: 4.3520\n",
      "Epoch [   38/   50] | d_loss: 0.8180 | g_loss: 1.9633\n",
      "Epoch [   38/   50] | d_loss: 0.5204 | g_loss: 2.1521\n",
      "Epoch [   38/   50] | d_loss: 0.4156 | g_loss: 3.6274\n",
      "Epoch [   38/   50] | d_loss: 0.4067 | g_loss: 3.3103\n",
      "Epoch [   38/   50] | d_loss: 0.4503 | g_loss: 2.8280\n",
      "Epoch [   38/   50] | d_loss: 0.3978 | g_loss: 3.4023\n",
      "Epoch [   38/   50] | d_loss: 0.4780 | g_loss: 2.9582\n",
      "Epoch [   38/   50] | d_loss: 0.4371 | g_loss: 3.3602\n",
      "Epoch [   38/   50] | d_loss: 0.5530 | g_loss: 2.4808\n",
      "Epoch [   38/   50] | d_loss: 0.5357 | g_loss: 2.9089\n"
     ]
    },
    {
     "name": "stderr",
     "output_type": "stream",
     "text": [
      "\n",
      " 76%|███████▌  | 38/50 [1:10:26<22:13, 111.15s/it]\u001b[A"
     ]
    },
    {
     "name": "stdout",
     "output_type": "stream",
     "text": [
      "Epoch [   39/   50] | d_loss: 0.4278 | g_loss: 2.9958\n",
      "Epoch [   39/   50] | d_loss: 0.3851 | g_loss: 3.9950\n",
      "Epoch [   39/   50] | d_loss: 0.4354 | g_loss: 3.9633\n",
      "Epoch [   39/   50] | d_loss: 0.4602 | g_loss: 2.9457\n",
      "Epoch [   39/   50] | d_loss: 0.5082 | g_loss: 2.5064\n",
      "Epoch [   39/   50] | d_loss: 0.4199 | g_loss: 4.0924\n",
      "Epoch [   39/   50] | d_loss: 0.5489 | g_loss: 1.5350\n",
      "Epoch [   39/   50] | d_loss: 0.4380 | g_loss: 3.0867\n",
      "Epoch [   39/   50] | d_loss: 0.4290 | g_loss: 4.3276\n",
      "Epoch [   39/   50] | d_loss: 0.8634 | g_loss: 0.7564\n",
      "Epoch [   39/   50] | d_loss: 0.5150 | g_loss: 1.9934\n",
      "Epoch [   39/   50] | d_loss: 1.0346 | g_loss: 3.4018\n",
      "Epoch [   39/   50] | d_loss: 0.3852 | g_loss: 4.3511\n",
      "Epoch [   39/   50] | d_loss: 1.0147 | g_loss: 2.2538\n",
      "Epoch [   39/   50] | d_loss: 0.4300 | g_loss: 3.3304\n"
     ]
    },
    {
     "name": "stderr",
     "output_type": "stream",
     "text": [
      "\n",
      " 78%|███████▊  | 39/50 [1:12:18<20:24, 111.36s/it]\u001b[A"
     ]
    },
    {
     "name": "stdout",
     "output_type": "stream",
     "text": [
      "Epoch [   40/   50] | d_loss: 0.4286 | g_loss: 3.3223\n",
      "Epoch [   40/   50] | d_loss: 0.4135 | g_loss: 3.4608\n",
      "Epoch [   40/   50] | d_loss: 0.4513 | g_loss: 3.3325\n",
      "Epoch [   40/   50] | d_loss: 0.5735 | g_loss: 2.0293\n",
      "Epoch [   40/   50] | d_loss: 0.4950 | g_loss: 4.1688\n",
      "Epoch [   40/   50] | d_loss: 0.8301 | g_loss: 1.0017\n",
      "Epoch [   40/   50] | d_loss: 0.3947 | g_loss: 3.2169\n",
      "Epoch [   40/   50] | d_loss: 0.4930 | g_loss: 4.6857\n",
      "Epoch [   40/   50] | d_loss: 0.8379 | g_loss: 1.6820\n",
      "Epoch [   40/   50] | d_loss: 0.4631 | g_loss: 3.2527\n",
      "Epoch [   40/   50] | d_loss: 0.4193 | g_loss: 3.2891\n",
      "Epoch [   40/   50] | d_loss: 0.3908 | g_loss: 4.4102\n",
      "Epoch [   40/   50] | d_loss: 0.4954 | g_loss: 2.9653\n",
      "Epoch [   40/   50] | d_loss: 0.4114 | g_loss: 4.3611\n",
      "Epoch [   40/   50] | d_loss: 0.4616 | g_loss: 2.2236\n"
     ]
    },
    {
     "name": "stderr",
     "output_type": "stream",
     "text": [
      "\n",
      " 80%|████████  | 40/50 [1:14:09<18:31, 111.18s/it]\u001b[A"
     ]
    },
    {
     "name": "stdout",
     "output_type": "stream",
     "text": [
      "Epoch [   41/   50] | d_loss: 0.4243 | g_loss: 3.7538\n",
      "Epoch [   41/   50] | d_loss: 0.4135 | g_loss: 3.3839\n",
      "Epoch [   41/   50] | d_loss: 0.4414 | g_loss: 2.1364\n",
      "Epoch [   41/   50] | d_loss: 0.3849 | g_loss: 4.0459\n",
      "Epoch [   41/   50] | d_loss: 0.4150 | g_loss: 3.0750\n",
      "Epoch [   41/   50] | d_loss: 0.4416 | g_loss: 4.0479\n",
      "Epoch [   41/   50] | d_loss: 0.6600 | g_loss: 1.8274\n",
      "Epoch [   41/   50] | d_loss: 0.4654 | g_loss: 3.3034\n",
      "Epoch [   41/   50] | d_loss: 0.4064 | g_loss: 3.3595\n",
      "Epoch [   41/   50] | d_loss: 0.5857 | g_loss: 2.4906\n",
      "Epoch [   41/   50] | d_loss: 1.1434 | g_loss: 1.4607\n",
      "Epoch [   41/   50] | d_loss: 0.4658 | g_loss: 2.2487\n",
      "Epoch [   41/   50] | d_loss: 0.3821 | g_loss: 3.7671\n",
      "Epoch [   41/   50] | d_loss: 0.4856 | g_loss: 3.6967\n",
      "Epoch [   41/   50] | d_loss: 0.3970 | g_loss: 4.2802\n"
     ]
    },
    {
     "name": "stderr",
     "output_type": "stream",
     "text": [
      "\n",
      " 82%|████████▏ | 41/50 [1:16:00<16:39, 111.01s/it]\u001b[A"
     ]
    },
    {
     "name": "stdout",
     "output_type": "stream",
     "text": [
      "Epoch [   42/   50] | d_loss: 0.4193 | g_loss: 4.2967\n",
      "Epoch [   42/   50] | d_loss: 0.4010 | g_loss: 4.0805\n",
      "Epoch [   42/   50] | d_loss: 0.4035 | g_loss: 3.6462\n",
      "Epoch [   42/   50] | d_loss: 0.4173 | g_loss: 3.8595\n",
      "Epoch [   42/   50] | d_loss: 0.5775 | g_loss: 3.4697\n",
      "Epoch [   42/   50] | d_loss: 0.4049 | g_loss: 3.1451\n",
      "Epoch [   42/   50] | d_loss: 0.4308 | g_loss: 3.2552\n",
      "Epoch [   42/   50] | d_loss: 0.3960 | g_loss: 4.1338\n",
      "Epoch [   42/   50] | d_loss: 0.4612 | g_loss: 3.3637\n",
      "Epoch [   42/   50] | d_loss: 0.4348 | g_loss: 4.4253\n",
      "Epoch [   42/   50] | d_loss: 0.4005 | g_loss: 4.1674\n",
      "Epoch [   42/   50] | d_loss: 0.5680 | g_loss: 3.0792\n",
      "Epoch [   42/   50] | d_loss: 0.4280 | g_loss: 3.6183\n",
      "Epoch [   42/   50] | d_loss: 0.4104 | g_loss: 3.1923\n",
      "Epoch [   42/   50] | d_loss: 0.4382 | g_loss: 2.9595\n"
     ]
    },
    {
     "name": "stderr",
     "output_type": "stream",
     "text": [
      "\n",
      " 84%|████████▍ | 42/50 [1:17:51<14:49, 111.14s/it]\u001b[A"
     ]
    },
    {
     "name": "stdout",
     "output_type": "stream",
     "text": [
      "Epoch [   43/   50] | d_loss: 0.4725 | g_loss: 4.4216\n",
      "Epoch [   43/   50] | d_loss: 0.4020 | g_loss: 4.2214\n",
      "Epoch [   43/   50] | d_loss: 0.3814 | g_loss: 4.1297\n",
      "Epoch [   43/   50] | d_loss: 0.3895 | g_loss: 4.6546\n",
      "Epoch [   43/   50] | d_loss: 0.4495 | g_loss: 4.1737\n",
      "Epoch [   43/   50] | d_loss: 1.0205 | g_loss: 4.2570\n",
      "Epoch [   43/   50] | d_loss: 0.6229 | g_loss: 1.2769\n",
      "Epoch [   43/   50] | d_loss: 0.5049 | g_loss: 2.9262\n",
      "Epoch [   43/   50] | d_loss: 0.7625 | g_loss: 1.6350\n",
      "Epoch [   43/   50] | d_loss: 0.4243 | g_loss: 3.2020\n",
      "Epoch [   43/   50] | d_loss: 0.4553 | g_loss: 2.8170\n",
      "Epoch [   43/   50] | d_loss: 0.5799 | g_loss: 2.1582\n",
      "Epoch [   43/   50] | d_loss: 0.3839 | g_loss: 3.2823\n",
      "Epoch [   43/   50] | d_loss: 0.4956 | g_loss: 4.0977\n",
      "Epoch [   43/   50] | d_loss: 0.4042 | g_loss: 3.7834\n"
     ]
    },
    {
     "name": "stderr",
     "output_type": "stream",
     "text": [
      "\n",
      " 86%|████████▌ | 43/50 [1:19:42<12:57, 111.02s/it]\u001b[A"
     ]
    },
    {
     "name": "stdout",
     "output_type": "stream",
     "text": [
      "Epoch [   44/   50] | d_loss: 0.3918 | g_loss: 3.7638\n",
      "Epoch [   44/   50] | d_loss: 0.4173 | g_loss: 2.6037\n",
      "Epoch [   44/   50] | d_loss: 0.3922 | g_loss: 3.5884\n",
      "Epoch [   44/   50] | d_loss: 0.4554 | g_loss: 3.4803\n",
      "Epoch [   44/   50] | d_loss: 0.3876 | g_loss: 3.6073\n",
      "Epoch [   44/   50] | d_loss: 0.4078 | g_loss: 3.3085\n",
      "Epoch [   44/   50] | d_loss: 0.4153 | g_loss: 3.4341\n",
      "Epoch [   44/   50] | d_loss: 0.5445 | g_loss: 2.7420\n",
      "Epoch [   44/   50] | d_loss: 0.5272 | g_loss: 4.7656\n",
      "Epoch [   44/   50] | d_loss: 0.7803 | g_loss: 3.1153\n",
      "Epoch [   44/   50] | d_loss: 0.3945 | g_loss: 3.5949\n",
      "Epoch [   44/   50] | d_loss: 0.3937 | g_loss: 3.6523\n",
      "Epoch [   44/   50] | d_loss: 0.5122 | g_loss: 2.9383\n",
      "Epoch [   44/   50] | d_loss: 0.3971 | g_loss: 4.0411\n",
      "Epoch [   44/   50] | d_loss: 0.4168 | g_loss: 4.0040\n"
     ]
    },
    {
     "name": "stderr",
     "output_type": "stream",
     "text": [
      "\n",
      " 88%|████████▊ | 44/50 [1:21:32<11:05, 110.87s/it]\u001b[A"
     ]
    },
    {
     "name": "stdout",
     "output_type": "stream",
     "text": [
      "Epoch [   45/   50] | d_loss: 0.4169 | g_loss: 2.8343\n",
      "Epoch [   45/   50] | d_loss: 0.4270 | g_loss: 2.9746\n",
      "Epoch [   45/   50] | d_loss: 0.4648 | g_loss: 2.5887\n",
      "Epoch [   45/   50] | d_loss: 0.4974 | g_loss: 3.9157\n",
      "Epoch [   45/   50] | d_loss: 0.4128 | g_loss: 3.8037\n",
      "Epoch [   45/   50] | d_loss: 0.4254 | g_loss: 3.0052\n",
      "Epoch [   45/   50] | d_loss: 0.6133 | g_loss: 3.8203\n",
      "Epoch [   45/   50] | d_loss: 0.5520 | g_loss: 1.5003\n",
      "Epoch [   45/   50] | d_loss: 0.5493 | g_loss: 3.1456\n",
      "Epoch [   45/   50] | d_loss: 0.4829 | g_loss: 2.7204\n",
      "Epoch [   45/   50] | d_loss: 0.4255 | g_loss: 4.1292\n",
      "Epoch [   45/   50] | d_loss: 0.4338 | g_loss: 3.2795\n",
      "Epoch [   45/   50] | d_loss: 0.3786 | g_loss: 3.9222\n",
      "Epoch [   45/   50] | d_loss: 0.6212 | g_loss: 1.8105\n",
      "Epoch [   45/   50] | d_loss: 0.6781 | g_loss: 4.4059\n"
     ]
    },
    {
     "name": "stderr",
     "output_type": "stream",
     "text": [
      "\n",
      " 90%|█████████ | 45/50 [1:23:24<09:15, 111.05s/it]\u001b[A"
     ]
    },
    {
     "name": "stdout",
     "output_type": "stream",
     "text": [
      "Epoch [   46/   50] | d_loss: 0.6361 | g_loss: 5.2323\n",
      "Epoch [   46/   50] | d_loss: 0.4599 | g_loss: 2.9569\n",
      "Epoch [   46/   50] | d_loss: 0.4167 | g_loss: 3.4398\n",
      "Epoch [   46/   50] | d_loss: 0.4243 | g_loss: 3.7311\n",
      "Epoch [   46/   50] | d_loss: 0.3812 | g_loss: 3.8140\n",
      "Epoch [   46/   50] | d_loss: 0.3911 | g_loss: 3.8717\n",
      "Epoch [   46/   50] | d_loss: 0.4445 | g_loss: 4.6571\n",
      "Epoch [   46/   50] | d_loss: 0.4146 | g_loss: 4.7785\n",
      "Epoch [   46/   50] | d_loss: 0.4677 | g_loss: 5.0041\n",
      "Epoch [   46/   50] | d_loss: 0.8164 | g_loss: 4.7983\n",
      "Epoch [   46/   50] | d_loss: 0.5464 | g_loss: 2.6222\n",
      "Epoch [   46/   50] | d_loss: 0.4958 | g_loss: 2.4554\n",
      "Epoch [   46/   50] | d_loss: 0.3737 | g_loss: 3.9931\n",
      "Epoch [   46/   50] | d_loss: 0.3689 | g_loss: 4.0342\n",
      "Epoch [   46/   50] | d_loss: 0.3969 | g_loss: 3.9663\n"
     ]
    },
    {
     "name": "stderr",
     "output_type": "stream",
     "text": [
      "\n",
      " 92%|█████████▏| 46/50 [1:25:14<07:23, 110.93s/it]\u001b[A"
     ]
    },
    {
     "name": "stdout",
     "output_type": "stream",
     "text": [
      "Epoch [   47/   50] | d_loss: 0.4259 | g_loss: 4.0949\n",
      "Epoch [   47/   50] | d_loss: 0.5016 | g_loss: 1.8929\n",
      "Epoch [   47/   50] | d_loss: 0.4179 | g_loss: 4.1890\n",
      "Epoch [   47/   50] | d_loss: 0.3927 | g_loss: 3.7113\n",
      "Epoch [   47/   50] | d_loss: 1.2295 | g_loss: 3.7962\n",
      "Epoch [   47/   50] | d_loss: 0.3864 | g_loss: 3.7224\n",
      "Epoch [   47/   50] | d_loss: 1.1280 | g_loss: 2.7654\n",
      "Epoch [   47/   50] | d_loss: 0.5093 | g_loss: 2.9417\n",
      "Epoch [   47/   50] | d_loss: 0.4209 | g_loss: 2.7770\n",
      "Epoch [   47/   50] | d_loss: 0.4070 | g_loss: 3.3123\n",
      "Epoch [   47/   50] | d_loss: 0.3772 | g_loss: 4.3095\n",
      "Epoch [   47/   50] | d_loss: 1.0437 | g_loss: 1.8806\n",
      "Epoch [   47/   50] | d_loss: 0.6194 | g_loss: 3.0175\n",
      "Epoch [   47/   50] | d_loss: 0.4903 | g_loss: 2.6158\n",
      "Epoch [   47/   50] | d_loss: 0.5937 | g_loss: 3.4885\n"
     ]
    },
    {
     "name": "stderr",
     "output_type": "stream",
     "text": [
      "\n",
      " 94%|█████████▍| 47/50 [1:27:06<05:33, 111.02s/it]\u001b[A"
     ]
    },
    {
     "name": "stdout",
     "output_type": "stream",
     "text": [
      "Epoch [   48/   50] | d_loss: 0.4287 | g_loss: 4.2037\n",
      "Epoch [   48/   50] | d_loss: 0.3870 | g_loss: 3.4925\n",
      "Epoch [   48/   50] | d_loss: 0.5181 | g_loss: 3.4999\n",
      "Epoch [   48/   50] | d_loss: 0.3957 | g_loss: 3.6122\n",
      "Epoch [   48/   50] | d_loss: 0.5979 | g_loss: 3.5708\n",
      "Epoch [   48/   50] | d_loss: 0.3660 | g_loss: 5.4076\n",
      "Epoch [   48/   50] | d_loss: 0.3771 | g_loss: 3.8613\n",
      "Epoch [   48/   50] | d_loss: 0.3782 | g_loss: 3.3176\n",
      "Epoch [   48/   50] | d_loss: 0.4016 | g_loss: 3.8145\n",
      "Epoch [   48/   50] | d_loss: 0.3963 | g_loss: 4.1624\n",
      "Epoch [   48/   50] | d_loss: 0.4166 | g_loss: 3.3117\n",
      "Epoch [   48/   50] | d_loss: 0.6214 | g_loss: 2.9749\n",
      "Epoch [   48/   50] | d_loss: 0.3822 | g_loss: 3.6301\n",
      "Epoch [   48/   50] | d_loss: 0.4217 | g_loss: 2.8103\n",
      "Epoch [   48/   50] | d_loss: 0.4971 | g_loss: 4.0210\n"
     ]
    },
    {
     "name": "stderr",
     "output_type": "stream",
     "text": [
      "\n",
      " 96%|█████████▌| 48/50 [1:28:57<03:42, 111.12s/it]\u001b[A"
     ]
    },
    {
     "name": "stdout",
     "output_type": "stream",
     "text": [
      "Epoch [   49/   50] | d_loss: 0.8143 | g_loss: 3.8193\n",
      "Epoch [   49/   50] | d_loss: 0.4369 | g_loss: 4.0109\n",
      "Epoch [   49/   50] | d_loss: 0.3999 | g_loss: 3.9347\n",
      "Epoch [   49/   50] | d_loss: 0.4195 | g_loss: 2.8120\n",
      "Epoch [   49/   50] | d_loss: 0.4107 | g_loss: 3.1714\n",
      "Epoch [   49/   50] | d_loss: 0.5005 | g_loss: 4.4241\n",
      "Epoch [   49/   50] | d_loss: 0.7336 | g_loss: 4.6663\n",
      "Epoch [   49/   50] | d_loss: 0.4041 | g_loss: 3.1395\n",
      "Epoch [   49/   50] | d_loss: 0.3800 | g_loss: 3.8312\n",
      "Epoch [   49/   50] | d_loss: 0.4964 | g_loss: 3.9923\n",
      "Epoch [   49/   50] | d_loss: 0.4416 | g_loss: 4.0278\n",
      "Epoch [   49/   50] | d_loss: 0.4151 | g_loss: 3.1160\n",
      "Epoch [   49/   50] | d_loss: 0.3832 | g_loss: 4.1090\n",
      "Epoch [   49/   50] | d_loss: 0.4138 | g_loss: 2.9108\n",
      "Epoch [   49/   50] | d_loss: 0.3759 | g_loss: 4.4708\n"
     ]
    },
    {
     "name": "stderr",
     "output_type": "stream",
     "text": [
      "\n",
      " 98%|█████████▊| 49/50 [1:30:48<01:50, 110.96s/it]\u001b[A"
     ]
    },
    {
     "name": "stdout",
     "output_type": "stream",
     "text": [
      "Epoch [   50/   50] | d_loss: 0.4519 | g_loss: 4.8367\n",
      "Epoch [   50/   50] | d_loss: 0.3846 | g_loss: 4.6778\n",
      "Epoch [   50/   50] | d_loss: 0.5107 | g_loss: 2.3371\n",
      "Epoch [   50/   50] | d_loss: 0.3827 | g_loss: 3.7896\n",
      "Epoch [   50/   50] | d_loss: 0.5362 | g_loss: 2.9103\n",
      "Epoch [   50/   50] | d_loss: 0.3782 | g_loss: 3.5213\n",
      "Epoch [   50/   50] | d_loss: 0.5378 | g_loss: 3.3541\n",
      "Epoch [   50/   50] | d_loss: 0.8216 | g_loss: 4.8082\n",
      "Epoch [   50/   50] | d_loss: 0.4071 | g_loss: 3.3680\n",
      "Epoch [   50/   50] | d_loss: 0.4111 | g_loss: 4.7244\n",
      "Epoch [   50/   50] | d_loss: 0.3842 | g_loss: 3.3696\n",
      "Epoch [   50/   50] | d_loss: 0.6420 | g_loss: 4.3484\n",
      "Epoch [   50/   50] | d_loss: 0.4001 | g_loss: 3.4964\n",
      "Epoch [   50/   50] | d_loss: 0.5369 | g_loss: 4.3341\n",
      "Epoch [   50/   50] | d_loss: 0.4009 | g_loss: 3.4671\n"
     ]
    },
    {
     "name": "stderr",
     "output_type": "stream",
     "text": [
      "\n",
      "100%|██████████| 50/50 [1:32:38<00:00, 110.96s/it]\u001b[A\n",
      "\u001b[A"
     ]
    }
   ],
   "source": [
    "# set number of epochs \n",
    "n_epochs = 50\n",
    "\n",
    "\n",
    "\"\"\"\n",
    "DON'T MODIFY ANYTHING IN THIS CELL\n",
    "\"\"\"\n",
    "# call training function\n",
    "losses = train(D, G, n_epochs=n_epochs)"
   ]
  },
  {
   "cell_type": "markdown",
   "metadata": {
    "colab_type": "text",
    "collapsed": true,
    "id": "bcadsGYzW8lX"
   },
   "source": [
    "## Training loss\n",
    "\n",
    "Plot the training losses for the generator and discriminator, recorded after each epoch."
   ]
  },
  {
   "cell_type": "code",
   "execution_count": 29,
   "metadata": {
    "colab": {
     "base_uri": "https://localhost:8080/",
     "height": 281
    },
    "colab_type": "code",
    "id": "-N26C7JkjVnn",
    "outputId": "bf54c92b-9fc0-4eb5-c414-49ad2c54be9f"
   },
   "outputs": [
    {
     "data": {
      "image/png": "[encoded data removed]",
      "text/plain": [
       "<Figure size 432x288 with 1 Axes>"
      ]
     },
     "metadata": {
      "tags": []
     },
     "output_type": "display_data"
    }
   ],
   "source": [
    "fig, ax = plt.subplots()\n",
    "losses = np.array(losses)\n",
    "plt.plot(losses.T[0], label='Discriminator', alpha=0.5)\n",
    "plt.plot(losses.T[1], label='Generator', alpha=0.5)\n",
    "plt.title(\"Training Losses\")\n",
    "plt.legend()\n",
    "plt.show()"
   ]
  },
  {
   "cell_type": "markdown",
   "metadata": {
    "colab_type": "text",
    "collapsed": true,
    "id": "BnBrRoiEW8ld"
   },
   "source": [
    "## Generator samples from training\n",
    "\n",
    "View samples of images from the generator, and answer a question about the strengths and weaknesses of your trained models."
   ]
  },
  {
   "cell_type": "code",
   "execution_count": 0,
   "metadata": {
    "colab": {},
    "colab_type": "code",
    "id": "OTpSgKuWW8le"
   },
   "outputs": [],
   "source": [
    "# helper function for viewing a list of passed in sample images\n",
    "def view_samples(epoch, samples):\n",
    "    fig, axes = plt.subplots(figsize=(16,4), nrows=2, ncols=8, sharey=True, sharex=True)\n",
    "    for ax, img in zip(axes.flatten(), samples[epoch]):\n",
    "        img = img.detach().cpu().numpy()\n",
    "        img = np.transpose(img, (1, 2, 0))\n",
    "        img = ((img + 1)*255 / (2)).astype(np.uint8)\n",
    "        ax.xaxis.set_visible(False)\n",
    "        ax.yaxis.set_visible(False)\n",
    "        im = ax.imshow(img.reshape((32,32,3)))"
   ]
  },
  {
   "cell_type": "code",
   "execution_count": 0,
   "metadata": {
    "colab": {},
    "colab_type": "code",
    "id": "mg0MEi3bW8lj"
   },
   "outputs": [],
   "source": [
    "# Load samples from generator, taken while training\n",
    "with open('train_samples.pkl', 'rb') as f:\n",
    "    samples = pkl.load(f)"
   ]
  },
  {
   "cell_type": "code",
   "execution_count": 32,
   "metadata": {
    "colab": {
     "base_uri": "https://localhost:8080/",
     "height": 244
    },
    "colab_type": "code",
    "id": "cjsDgFQ3W8lq",
    "outputId": "f8fd2f45-7293-49d0-bd19-27feaa9c29a3"
   },
   "outputs": [
    {
     "data": {
      "image/png": "[encoded data removed]",
      "text/plain": [
       "<Figure size 1152x288 with 16 Axes>"
      ]
     },
     "metadata": {
      "tags": []
     },
     "output_type": "display_data"
    }
   ],
   "source": [
    "_ = view_samples(-1, samples)"
   ]
  },
  {
   "cell_type": "markdown",
   "metadata": {
    "colab_type": "text",
    "id": "rPtw4RsdW8lv"
   },
   "source": [
    "### Question: What do you notice about your generated samples and how might you improve this model?\n",
    "When you answer this question, consider the following factors:\n",
    "* The dataset is biased; it is made of \"celebrity\" faces that are mostly white\n",
    "* Model size; larger models have the opportunity to learn more features in a data feature space\n",
    "* Optimization strategy; optimizers and number of epochs affect your final result\n"
   ]
  },
  {
   "cell_type": "markdown",
   "metadata": {
    "colab_type": "text",
    "id": "YN5nXiskW8lz"
   },
   "source": [
    "**Answer:** (Write your answer in this cell)\n",
    "Both generator and discriminator loss seems to be around 0.85.\n",
    "\n",
    "To improve the model:\n",
    "\n",
    "\n",
    "*   To increase the  img_size (from img_size 32 to 64 to obtain better clarity)\n",
    "*   To try with higher dimensions g_conv_dim and d_conv_dim\n",
    "*    To try with more number of epochs to learn and extract the features to provide clutter-free image(though generated for 35 epochs , i feel the clarity and generated faces were not good)\n",
    "* To add one or more Convolutional layers to learn more about the images\n",
    "* To try with different learning rates(even a tiny value), beta1, beta2 \n",
    "\n",
    "\n",
    "\n",
    "\n"
   ]
  },
  {
   "cell_type": "markdown",
   "metadata": {
    "colab_type": "text",
    "id": "b4TUKgbnW8l1"
   },
   "source": [
    "### Submitting This Project\n",
    "When submitting this project, make sure to run all the cells before saving the notebook. Save the notebook file as \"dlnd_face_generation.ipynb\" and save it as a HTML file under \"File\" -> \"Download as\". Include the \"problem_unittests.py\" files in your submission."
   ]
  },
  {
   "cell_type": "code",
   "execution_count": 0,
   "metadata": {
    "colab": {},
    "colab_type": "code",
    "id": "CGllzqq1iTOs"
   },
   "outputs": [],
   "source": []
  }
 ],
 "metadata": {
  "accelerator": "GPU",
  "colab": {
   "name": "Copy of dlnd_face_generation.ipynb",
   "provenance": [],
   "version": "0.3.2"
  },
  "kernelspec": {
   "display_name": "Python 3",
   "language": "python",
   "name": "python3"
  },
  "language_info": {
   "codemirror_mode": {
    "name": "ipython",
    "version": 3
   },
   "file_extension": ".py",
   "mimetype": "text/x-python",
   "name": "python",
   "nbconvert_exporter": "python",
   "pygments_lexer": "ipython3",
   "version": "3.6.8"
  }
 },
 "nbformat": 4,
 "nbformat_minor": 1
}
